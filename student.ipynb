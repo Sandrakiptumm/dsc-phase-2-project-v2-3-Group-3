{
 "cells": [
  {
   "cell_type": "markdown",
   "metadata": {},
   "source": [
    "## Final Project Submission\n",
    "\n",
    "Please fill out:\n",
    "* Student name: Calvine Dasilver\n",
    "* Student pace: full time\n",
    "* Scheduled project review date/time: \n",
    "* Instructor name: Nikita\n",
    "* Blog post URL:\n"
   ]
  },
  {
   "cell_type": "markdown",
   "metadata": {},
   "source": [
    " #  Demystifying House Sales Analysis with Regression Modeling in a Northwestern County\n",
    "\n",
    "   ## Project Overview"
   ]
  },
  {
   "cell_type": "markdown",
   "metadata": {},
   "source": [
    "   ### <li>**Business Understanding**\n",
    "\n",
    "The real estate market plays a crucial role in the economic health and stability of a region. Understanding the factors that influence house prices is essential for both buyers and sellers to navigate the market effectively. This project focuses on a specific northwestern county in the United States, aiming to shed light on the key determinants of property valuation in this area.\n",
    "\n",
    "   ##### Challenges of a Fluctuating Real Estate Market:\n",
    "* Market fluctuations make it difficult for real estate agents to price houses and guide clients on offers.\n",
    "* Rapid price fluctuations create a challenging environment for homebuyers, making it difficult to secure a good deal and avoid overpaying.\n",
    "* Trying to pick the perfect moment to sell a house for maximum profit feels like playing the lottery – stressful, unpredictable, and with slim odds of success.\n",
    "* High land prices and buyers struggling to afford homes make it difficult for builders to build new houses.\n",
    "\n",
    "   \n",
    "##### Problem Statements:\n",
    "We want to find out what makes houses expensive in a certain county in the northwest US. We'll also look at ways to measure how much these things like number of bedrooms or location affect the price. Finally, we'll see if we can build a tool to predict house prices based on these important features.\n",
    "\n",
    "   ##### Conclusion\n",
    " Our study looked at how the ups and downs of the housing market in a northwestern county are making things tough for everyone involved. To help out, we're building a tool to predict house prices. This will give real estate agents valuable information so they can give their clients the best advice in this unpredictable market.\n",
    "\n",
    "   ##### Proposed Solutions:\n",
    "We propose utilizing multiple linear regression, a powerful machine learning technique. This method allows us to analyze a large dataset of house sales and identify the statistical relationships between various property features (e.g., square footage, number of bedrooms, location) and the corresponding sale prices.\n",
    "\n",
    "\n",
    "   ##### Objectives:\n",
    "1. Develop a robust multiple linear regression model that accurately predicts house prices in the chosen northwestern county.\n",
    "2. Identify the most significant factors influencing property value within this specific market.\n",
    "3. Provide valuable insights into the housing market dynamics of the region, benefiting potential buyers, real estate agents, and other stakeholders.\n",
    "   "
   ]
  },
  {
   "cell_type": "markdown",
   "metadata": {},
   "source": [
    "   ### <li> **Data Understanding**\n",
    "\n",
    "Our analysis leverages the King County House Sales dataset.This information is stored in a file called \"kc_house_data.csv\".\n",
    " It's a rich resource containing over 21,500 records and 20 distinct features(columns). Spanning house sales from May 2014 to May 2015, this dataset provides a comprehensive snapshot of the King County housing market during that period.\n",
    "\n",
    "**The King County House Sales dataset contains the following columns;**\n",
    "\n",
    "id - unique identified for a house\n",
    "\n",
    "date - Date house was sold \n",
    "\n",
    "Price - Sale price (prediction target)\n",
    "\n",
    "bedrooms - Number of bedrooms,\n",
    "\n",
    "bathrooms - Number of bathrooms,\n",
    "\n",
    "sqft_living - Square footage of living space in the home,\n",
    "\n",
    "sqft_lot - Square footage of the lot,\n",
    "\n",
    "floors - Number of floors (levels) in house,\n",
    "\n",
    "view - Quality of view from house,\n",
    "\n",
    "condition - How good the overall condition of the house is. Related to maintenance of house,\n",
    "\n",
    "grade - Overall grade of the house. Related to the construction and design of the house,\n",
    "\n",
    "sqft_above - Square footage of house apart from basement,\n",
    "\n",
    "sqft_basement - Square footage of the basement,\n",
    "\n",
    "yr_built - Year when house was built,\n",
    "\n",
    "yr_renovated - Year when house was renovated,\n",
    "\n",
    "zipcode - ZIP Code used by the United States Postal Service,\n",
    "\n",
    "sqft_living15 - The square footage of interior housing living space for the nearest 15 neighbors,\n",
    "\n",
    "sqft_lot15 - The square footage of the land lots of the nearest 15 neighbors, and\n",
    "\n",
    "sell_yr - Date house was sold.\n",
    "\n",
    "\n",
    "\n"
   ]
  },
  {
   "cell_type": "code",
   "execution_count": null,
   "metadata": {},
   "outputs": [],
   "source": [
    "# Your code here - remember to use markdown cells for comments as well!"
   ]
  }
 ],
 "metadata": {
  "kernelspec": {
   "display_name": "Python (learn-env)",
   "language": "python",
   "name": "learn-env"
  },
  "language_info": {
   "codemirror_mode": {
    "name": "ipython",
    "version": 3
   },
   "feature/data-preparation": "main",
   "file_extension": ".py",
   "mimetype": "text/x-python",
   "name": "python",
   "nbconvert_exporter": "python",
   "pygments_lexer": "ipython3",
   "version": "3.8.5"
  }
 },
 "nbformat": 4,
 "nbformat_minor": 2
}
