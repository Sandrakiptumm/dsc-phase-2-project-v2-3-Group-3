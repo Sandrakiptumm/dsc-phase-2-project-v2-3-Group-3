{
 "cells": [
  {
   "cell_type": "markdown",
   "metadata": {},
   "source": [
    "## Final Project Submission\n",
    "\n",
    "Please fill out:\n",
    "* Student name:Calvine Dasilver, Hellen Samuel, Salahudin Salat, Jack otieno and Sandra Kiptum\n",
    "* Student pace: full time\n",
    "* Scheduled project review date/time: \n",
    "* Instructor name: Nikita\n",
    "* Blog post URL:\n"
   ]
  },
  {
   "cell_type": "markdown",
   "metadata": {},
   "source": [
    " #  Demystifying House Sales Analysis with Regression Modeling in a Northwestern County\n",
    "\n",
    " ## Project Overview"
   ]
  },
  {
   "cell_type": "markdown",
   "metadata": {},
   "source": [
    "  ## **Business Understanding**\n",
    "\n",
    "The real estate market plays a crucial role in the economic health and stability of a region. Understanding the factors that influence house prices is essential for both buyers and sellers to navigate the market effectively. This project focuses on a specific northwestern county in the United States, aiming to shed light on the key determinants of property valuation in this area.\n",
    "\n",
    "##### Challenges of a Fluctuating Real Estate Market:\n",
    "* Market fluctuations make it difficult for real estate agents to price houses and guide clients on offers.\n",
    "* Rapid price fluctuations create a challenging environment for homebuyers, making it difficult to secure a good deal and avoid overpaying.\n",
    "* Trying to pick the perfect moment to sell a house for maximum profit feels like playing the lottery – stressful, unpredictable, and with slim odds of success.\n",
    "* High land prices and buyers struggling to afford homes make it difficult for builders to build new houses.\n",
    "\n",
    "##### Problem Statements:\n",
    "We want to find out what makes houses expensive in a certain county in the northwest US. We'll also look at ways to measure how much these things like number of bedrooms or location affect the price. Finally, we'll see if we can build a tool to predict house prices based on these important features.\n",
    "\n",
    "   ##### Conclusion\n",
    " Our study looked at how the ups and downs of the housing market in a northwestern county are making things tough for everyone involved. To help out, we're building a tool to predict house prices. This will give real estate agents valuable information so they can give their clients the best advice in this unpredictable market.\n",
    "   ##### Proposed Solutions:\n",
    "We propose utilizing multiple linear regression, a powerful machine learning technique. This method allows us to analyze a large dataset of house sales and identify the statistical relationships between various property features (e.g., square footage, number of bedrooms, location) and the corresponding sale prices.\n",
    "\n",
    "##### Objectives:\n",
    "1. Develop a robust multiple linear regression model that accurately predicts house prices in the chosen northwestern county.\n",
    "2. Identify the most significant factors influencing property value within this specific market.\n",
    "3. Provide valuable insights into the housing market dynamics of the region, benefiting potential buyers, real estate agents, and other stakeholders."
   ]
  },
  {
   "cell_type": "markdown",
   "metadata": {},
   "source": [
    "  ### <li> **Data Understanding**\n",
    "\n",
    "Our analysis leverages the King County House Sales dataset.This information is stored in a file called \"kc_house_data.csv\".\n",
    " It's a rich resource containing over 21,500 records and 20 distinct features(columns). Spanning house sales from May 2014 to May 2015, this dataset provides a comprehensive snapshot of the King County housing market during that period.\n",
    "\n",
    "**The King County House Sales dataset contains the following columns;**\n",
    "\n",
    "id - unique identified for a house\n",
    "\n",
    "date - Date house was sold \n",
    "\n",
    "Price - Sale price (prediction target)\n",
    "\n",
    "bedrooms - Number of bedrooms,\n",
    "\n",
    "bathrooms - Number of bathrooms,\n",
    "\n",
    "sqft_living - Square footage of living space in the home,\n",
    "\n",
    "sqft_lot - Square footage of the lot,\n",
    "\n",
    "floors - Number of floors (levels) in house,\n",
    "\n",
    "view - Quality of view from house,\n",
    "\n",
    "condition - How good the overall condition of the house is. Related to maintenance of house,\n",
    "\n",
    "grade - Overall grade of the house. Related to the construction and design of the house,\n",
    "\n",
    "sqft_above - Square footage of house apart from basement,\n",
    "\n",
    "sqft_basement - Square footage of the basement,\n",
    "\n",
    "yr_built - Year when house was built,\n",
    "\n",
    "yr_renovated - Year when house was renovated,\n",
    "\n",
    "zipcode - ZIP Code used by the United States Postal Service,\n",
    "\n",
    "sqft_living15 - The square footage of interior housing living space for the nearest 15 neighbors,\n",
    "\n",
    "sqft_lot15 - The square footage of the land lots of the nearest 15 neighbors, and\n",
    "\n",
    "sell_yr - Date house was sold.\n"
   ]
  },
  {
   "cell_type": "code",
   "execution_count": 58,
   "metadata": {},
   "outputs": [
    {
     "name": "stdout",
     "output_type": "stream",
     "text": [
      "Dataframe Info:\n",
      "<class 'pandas.core.frame.DataFrame'>\n",
      "RangeIndex: 21597 entries, 0 to 21596\n",
      "Data columns (total 21 columns):\n",
      " #   Column         Non-Null Count  Dtype  \n",
      "---  ------         --------------  -----  \n",
      " 0   id             21597 non-null  int64  \n",
      " 1   date           21597 non-null  object \n",
      " 2   price          21597 non-null  float64\n",
      " 3   bedrooms       21597 non-null  int64  \n",
      " 4   bathrooms      21597 non-null  float64\n",
      " 5   sqft_living    21597 non-null  int64  \n",
      " 6   sqft_lot       21597 non-null  int64  \n",
      " 7   floors         21597 non-null  float64\n",
      " 8   waterfront     19221 non-null  object \n",
      " 9   view           21534 non-null  object \n",
      " 10  condition      21597 non-null  object \n",
      " 11  grade          21597 non-null  object \n",
      " 12  sqft_above     21597 non-null  int64  \n",
      " 13  sqft_basement  21597 non-null  object \n",
      " 14  yr_built       21597 non-null  int64  \n",
      " 15  yr_renovated   17755 non-null  float64\n",
      " 16  zipcode        21597 non-null  int64  \n",
      " 17  lat            21597 non-null  float64\n",
      " 18  long           21597 non-null  float64\n",
      " 19  sqft_living15  21597 non-null  int64  \n",
      " 20  sqft_lot15     21597 non-null  int64  \n",
      "dtypes: float64(6), int64(9), object(6)\n",
      "memory usage: 3.5+ MB\n",
      "(21597, 21)\n",
      "\n",
      "Index(['id', 'date', 'price', 'bedrooms', 'bathrooms', 'sqft_living',\n",
      "       'sqft_lot', 'floors', 'waterfront', 'view', 'condition', 'grade',\n",
      "       'sqft_above', 'sqft_basement', 'yr_built', 'yr_renovated', 'zipcode',\n",
      "       'lat', 'long', 'sqft_living15', 'sqft_lot15'],\n",
      "      dtype='object')\n",
      "\n",
      "id                 int64\n",
      "date              object\n",
      "price            float64\n",
      "bedrooms           int64\n",
      "bathrooms        float64\n",
      "sqft_living        int64\n",
      "sqft_lot           int64\n",
      "floors           float64\n",
      "waterfront        object\n",
      "view              object\n",
      "condition         object\n",
      "grade             object\n",
      "sqft_above         int64\n",
      "sqft_basement     object\n",
      "yr_built           int64\n",
      "yr_renovated     float64\n",
      "zipcode            int64\n",
      "lat              float64\n",
      "long             float64\n",
      "sqft_living15      int64\n",
      "sqft_lot15         int64\n",
      "dtype: object\n",
      "\n",
      "None\n",
      "\n",
      "                 id         price      bedrooms     bathrooms   sqft_living  \\\n",
      "count  2.159700e+04  2.159700e+04  21597.000000  21597.000000  21597.000000   \n",
      "mean   4.580474e+09  5.402966e+05      3.373200      2.115826   2080.321850   \n",
      "std    2.876736e+09  3.673681e+05      0.926299      0.768984    918.106125   \n",
      "min    1.000102e+06  7.800000e+04      1.000000      0.500000    370.000000   \n",
      "25%    2.123049e+09  3.220000e+05      3.000000      1.750000   1430.000000   \n",
      "50%    3.904930e+09  4.500000e+05      3.000000      2.250000   1910.000000   \n",
      "75%    7.308900e+09  6.450000e+05      4.000000      2.500000   2550.000000   \n",
      "max    9.900000e+09  7.700000e+06     33.000000      8.000000  13540.000000   \n",
      "\n",
      "           sqft_lot        floors    sqft_above      yr_built  yr_renovated  \\\n",
      "count  2.159700e+04  21597.000000  21597.000000  21597.000000  17755.000000   \n",
      "mean   1.509941e+04      1.494096   1788.596842   1970.999676     83.636778   \n",
      "std    4.141264e+04      0.539683    827.759761     29.375234    399.946414   \n",
      "min    5.200000e+02      1.000000    370.000000   1900.000000      0.000000   \n",
      "25%    5.040000e+03      1.000000   1190.000000   1951.000000      0.000000   \n",
      "50%    7.618000e+03      1.500000   1560.000000   1975.000000      0.000000   \n",
      "75%    1.068500e+04      2.000000   2210.000000   1997.000000      0.000000   \n",
      "max    1.651359e+06      3.500000   9410.000000   2015.000000   2015.000000   \n",
      "\n",
      "            zipcode           lat          long  sqft_living15     sqft_lot15  \n",
      "count  21597.000000  21597.000000  21597.000000   21597.000000   21597.000000  \n",
      "mean   98077.951845     47.560093   -122.213982    1986.620318   12758.283512  \n",
      "std       53.513072      0.138552      0.140724     685.230472   27274.441950  \n",
      "min    98001.000000     47.155900   -122.519000     399.000000     651.000000  \n",
      "25%    98033.000000     47.471100   -122.328000    1490.000000    5100.000000  \n",
      "50%    98065.000000     47.571800   -122.231000    1840.000000    7620.000000  \n",
      "75%    98118.000000     47.678000   -122.125000    2360.000000   10083.000000  \n",
      "max    98199.000000     47.777600   -121.315000    6210.000000  871200.000000  \n"
     ]
    }
   ],
   "source": [
    "# This function takes a CSV file path as input and displays various informative elements\n",
    "# about the loaded DataFrame, providing insights into the data structure, data types,\n",
    "# and summary statistics.\n",
    "def dataset_info(file_path):\n",
    "  data = pd.read_csv(file_path)\n",
    "  print(\"Dataframe Info:\")\n",
    "  print(data.shape, data.columns, data.dtypes, data.info(), data.describe(), sep=\"\\n\\n\")\n",
    "\n",
    "dataset_info('data/kc_house_data.csv')"
   ]
  },
  {
   "cell_type": "markdown",
   "metadata": {},
   "source": [
    "## **Data Preparation**"
   ]
  },
  {
   "cell_type": "code",
   "execution_count": 55,
   "metadata": {},
   "outputs": [],
   "source": [
    "import csv\n",
    "import pandas as pd\n",
    "import sqlite3\n",
    "import numpy as np\n",
    "import seaborn as sns\n",
    "import matplotlib.pyplot as plt\n",
    "import statsmodels.api as sm\n",
    "from statsmodels.api import OLS\n",
    "from sklearn.linear_model import LinearRegression\n",
    "from sklearn.metrics import mean_squared_error\n",
    "from sklearn.preprocessing import PolynomialFeatures\n",
    "from sklearn.model_selection import train_test_split, cross_validate\n",
    "from sklearn.preprocessing import LabelEncoder\n",
    "from sklearn.preprocessing import StandardScaler\n",
    "%matplotlib inline\n",
    "from sklearn.metrics import mean_absolute_error\n"
   ]
  },
  {
   "cell_type": "code",
   "execution_count": 3,
   "metadata": {},
   "outputs": [],
   "source": [
    "#from user_functions import null, building_model, plotting_regression_plots, drop_duplicates, remove_outliers_zscore"
   ]
  },
  {
   "cell_type": "code",
   "execution_count": 4,
   "metadata": {},
   "outputs": [
    {
     "data": {
      "text/html": [
       "<div>\n",
       "<style scoped>\n",
       "    .dataframe tbody tr th:only-of-type {\n",
       "        vertical-align: middle;\n",
       "    }\n",
       "\n",
       "    .dataframe tbody tr th {\n",
       "        vertical-align: top;\n",
       "    }\n",
       "\n",
       "    .dataframe thead th {\n",
       "        text-align: right;\n",
       "    }\n",
       "</style>\n",
       "<table border=\"1\" class=\"dataframe\">\n",
       "  <thead>\n",
       "    <tr style=\"text-align: right;\">\n",
       "      <th></th>\n",
       "      <th>id</th>\n",
       "      <th>date</th>\n",
       "      <th>price</th>\n",
       "      <th>bedrooms</th>\n",
       "      <th>bathrooms</th>\n",
       "      <th>sqft_living</th>\n",
       "      <th>sqft_lot</th>\n",
       "      <th>floors</th>\n",
       "      <th>waterfront</th>\n",
       "      <th>view</th>\n",
       "      <th>...</th>\n",
       "      <th>grade</th>\n",
       "      <th>sqft_above</th>\n",
       "      <th>sqft_basement</th>\n",
       "      <th>yr_built</th>\n",
       "      <th>yr_renovated</th>\n",
       "      <th>zipcode</th>\n",
       "      <th>lat</th>\n",
       "      <th>long</th>\n",
       "      <th>sqft_living15</th>\n",
       "      <th>sqft_lot15</th>\n",
       "    </tr>\n",
       "  </thead>\n",
       "  <tbody>\n",
       "    <tr>\n",
       "      <th>0</th>\n",
       "      <td>7129300520</td>\n",
       "      <td>10/13/2014</td>\n",
       "      <td>221900.0</td>\n",
       "      <td>3</td>\n",
       "      <td>1.00</td>\n",
       "      <td>1180</td>\n",
       "      <td>5650</td>\n",
       "      <td>1.0</td>\n",
       "      <td>NaN</td>\n",
       "      <td>NONE</td>\n",
       "      <td>...</td>\n",
       "      <td>7 Average</td>\n",
       "      <td>1180</td>\n",
       "      <td>0.0</td>\n",
       "      <td>1955</td>\n",
       "      <td>0.0</td>\n",
       "      <td>98178</td>\n",
       "      <td>47.5112</td>\n",
       "      <td>-122.257</td>\n",
       "      <td>1340</td>\n",
       "      <td>5650</td>\n",
       "    </tr>\n",
       "    <tr>\n",
       "      <th>1</th>\n",
       "      <td>6414100192</td>\n",
       "      <td>12/9/2014</td>\n",
       "      <td>538000.0</td>\n",
       "      <td>3</td>\n",
       "      <td>2.25</td>\n",
       "      <td>2570</td>\n",
       "      <td>7242</td>\n",
       "      <td>2.0</td>\n",
       "      <td>NO</td>\n",
       "      <td>NONE</td>\n",
       "      <td>...</td>\n",
       "      <td>7 Average</td>\n",
       "      <td>2170</td>\n",
       "      <td>400.0</td>\n",
       "      <td>1951</td>\n",
       "      <td>1991.0</td>\n",
       "      <td>98125</td>\n",
       "      <td>47.7210</td>\n",
       "      <td>-122.319</td>\n",
       "      <td>1690</td>\n",
       "      <td>7639</td>\n",
       "    </tr>\n",
       "    <tr>\n",
       "      <th>2</th>\n",
       "      <td>5631500400</td>\n",
       "      <td>2/25/2015</td>\n",
       "      <td>180000.0</td>\n",
       "      <td>2</td>\n",
       "      <td>1.00</td>\n",
       "      <td>770</td>\n",
       "      <td>10000</td>\n",
       "      <td>1.0</td>\n",
       "      <td>NO</td>\n",
       "      <td>NONE</td>\n",
       "      <td>...</td>\n",
       "      <td>6 Low Average</td>\n",
       "      <td>770</td>\n",
       "      <td>0.0</td>\n",
       "      <td>1933</td>\n",
       "      <td>NaN</td>\n",
       "      <td>98028</td>\n",
       "      <td>47.7379</td>\n",
       "      <td>-122.233</td>\n",
       "      <td>2720</td>\n",
       "      <td>8062</td>\n",
       "    </tr>\n",
       "    <tr>\n",
       "      <th>3</th>\n",
       "      <td>2487200875</td>\n",
       "      <td>12/9/2014</td>\n",
       "      <td>604000.0</td>\n",
       "      <td>4</td>\n",
       "      <td>3.00</td>\n",
       "      <td>1960</td>\n",
       "      <td>5000</td>\n",
       "      <td>1.0</td>\n",
       "      <td>NO</td>\n",
       "      <td>NONE</td>\n",
       "      <td>...</td>\n",
       "      <td>7 Average</td>\n",
       "      <td>1050</td>\n",
       "      <td>910.0</td>\n",
       "      <td>1965</td>\n",
       "      <td>0.0</td>\n",
       "      <td>98136</td>\n",
       "      <td>47.5208</td>\n",
       "      <td>-122.393</td>\n",
       "      <td>1360</td>\n",
       "      <td>5000</td>\n",
       "    </tr>\n",
       "    <tr>\n",
       "      <th>4</th>\n",
       "      <td>1954400510</td>\n",
       "      <td>2/18/2015</td>\n",
       "      <td>510000.0</td>\n",
       "      <td>3</td>\n",
       "      <td>2.00</td>\n",
       "      <td>1680</td>\n",
       "      <td>8080</td>\n",
       "      <td>1.0</td>\n",
       "      <td>NO</td>\n",
       "      <td>NONE</td>\n",
       "      <td>...</td>\n",
       "      <td>8 Good</td>\n",
       "      <td>1680</td>\n",
       "      <td>0.0</td>\n",
       "      <td>1987</td>\n",
       "      <td>0.0</td>\n",
       "      <td>98074</td>\n",
       "      <td>47.6168</td>\n",
       "      <td>-122.045</td>\n",
       "      <td>1800</td>\n",
       "      <td>7503</td>\n",
       "    </tr>\n",
       "  </tbody>\n",
       "</table>\n",
       "<p>5 rows × 21 columns</p>\n",
       "</div>"
      ],
      "text/plain": [
       "           id        date     price  bedrooms  bathrooms  sqft_living  \\\n",
       "0  7129300520  10/13/2014  221900.0         3       1.00         1180   \n",
       "1  6414100192   12/9/2014  538000.0         3       2.25         2570   \n",
       "2  5631500400   2/25/2015  180000.0         2       1.00          770   \n",
       "3  2487200875   12/9/2014  604000.0         4       3.00         1960   \n",
       "4  1954400510   2/18/2015  510000.0         3       2.00         1680   \n",
       "\n",
       "   sqft_lot  floors waterfront  view  ...          grade sqft_above  \\\n",
       "0      5650     1.0        NaN  NONE  ...      7 Average       1180   \n",
       "1      7242     2.0         NO  NONE  ...      7 Average       2170   \n",
       "2     10000     1.0         NO  NONE  ...  6 Low Average        770   \n",
       "3      5000     1.0         NO  NONE  ...      7 Average       1050   \n",
       "4      8080     1.0         NO  NONE  ...         8 Good       1680   \n",
       "\n",
       "   sqft_basement yr_built  yr_renovated  zipcode      lat     long  \\\n",
       "0            0.0     1955           0.0    98178  47.5112 -122.257   \n",
       "1          400.0     1951        1991.0    98125  47.7210 -122.319   \n",
       "2            0.0     1933           NaN    98028  47.7379 -122.233   \n",
       "3          910.0     1965           0.0    98136  47.5208 -122.393   \n",
       "4            0.0     1987           0.0    98074  47.6168 -122.045   \n",
       "\n",
       "   sqft_living15  sqft_lot15  \n",
       "0           1340        5650  \n",
       "1           1690        7639  \n",
       "2           2720        8062  \n",
       "3           1360        5000  \n",
       "4           1800        7503  \n",
       "\n",
       "[5 rows x 21 columns]"
      ]
     },
     "execution_count": 4,
     "metadata": {},
     "output_type": "execute_result"
    }
   ],
   "source": [
    "#Reading our data\n",
    "df = pd.read_csv(\"data/kc_house_data.csv\")\n",
    "df.head()"
   ]
  },
  {
   "cell_type": "code",
   "execution_count": 5,
   "metadata": {},
   "outputs": [
    {
     "name": "stdout",
     "output_type": "stream",
     "text": [
      "<class 'pandas.core.frame.DataFrame'>\n",
      "RangeIndex: 21597 entries, 0 to 21596\n",
      "Data columns (total 21 columns):\n",
      " #   Column         Non-Null Count  Dtype  \n",
      "---  ------         --------------  -----  \n",
      " 0   id             21597 non-null  int64  \n",
      " 1   date           21597 non-null  object \n",
      " 2   price          21597 non-null  float64\n",
      " 3   bedrooms       21597 non-null  int64  \n",
      " 4   bathrooms      21597 non-null  float64\n",
      " 5   sqft_living    21597 non-null  int64  \n",
      " 6   sqft_lot       21597 non-null  int64  \n",
      " 7   floors         21597 non-null  float64\n",
      " 8   waterfront     19221 non-null  object \n",
      " 9   view           21534 non-null  object \n",
      " 10  condition      21597 non-null  object \n",
      " 11  grade          21597 non-null  object \n",
      " 12  sqft_above     21597 non-null  int64  \n",
      " 13  sqft_basement  21597 non-null  object \n",
      " 14  yr_built       21597 non-null  int64  \n",
      " 15  yr_renovated   17755 non-null  float64\n",
      " 16  zipcode        21597 non-null  int64  \n",
      " 17  lat            21597 non-null  float64\n",
      " 18  long           21597 non-null  float64\n",
      " 19  sqft_living15  21597 non-null  int64  \n",
      " 20  sqft_lot15     21597 non-null  int64  \n",
      "dtypes: float64(6), int64(9), object(6)\n",
      "memory usage: 3.5+ MB\n"
     ]
    }
   ],
   "source": [
    "#checking on data data types and null values\n",
    "df.info()\n"
   ]
  },
  {
   "cell_type": "markdown",
   "metadata": {},
   "source": [
    "from this we can see all our columns and data types, we can also see that we have sum null or missing values, let's have a better look at this"
   ]
  },
  {
   "cell_type": "code",
   "execution_count": 6,
   "metadata": {},
   "outputs": [
    {
     "data": {
      "text/plain": [
       "(21597, 21)"
      ]
     },
     "execution_count": 6,
     "metadata": {},
     "output_type": "execute_result"
    }
   ],
   "source": [
    "# checking the number of rows and columns\n",
    "df.shape"
   ]
  },
  {
   "cell_type": "markdown",
   "metadata": {},
   "source": [
    "a complete column with no missing values should have 21597 rows"
   ]
  },
  {
   "cell_type": "code",
   "execution_count": 7,
   "metadata": {},
   "outputs": [
    {
     "data": {
      "text/plain": [
       "id                  0\n",
       "date                0\n",
       "price               0\n",
       "bedrooms            0\n",
       "bathrooms           0\n",
       "sqft_living         0\n",
       "sqft_lot            0\n",
       "floors              0\n",
       "waterfront       2376\n",
       "view               63\n",
       "condition           0\n",
       "grade               0\n",
       "sqft_above          0\n",
       "sqft_basement       0\n",
       "yr_built            0\n",
       "yr_renovated     3842\n",
       "zipcode             0\n",
       "lat                 0\n",
       "long                0\n",
       "sqft_living15       0\n",
       "sqft_lot15          0\n",
       "dtype: int64"
      ]
     },
     "execution_count": 7,
     "metadata": {},
     "output_type": "execute_result"
    }
   ],
   "source": [
    "def null(data):\n",
    "    return data.isna().sum()\n",
    "#checking for the number of null values with our user defined function\n",
    "null(df)"
   ]
  },
  {
   "cell_type": "markdown",
   "metadata": {},
   "source": [
    "we can see that waterfront, view and yr_renovated have null values. the sum of these null values is 6281(assuming the null values are in different rows) rows compared to our dataframe of 21597 rows i would rather we drop the individual rows instead of entire columns"
   ]
  },
  {
   "cell_type": "code",
   "execution_count": 8,
   "metadata": {},
   "outputs": [],
   "source": [
    "# Dropping rows with null vallues\n",
    "df.dropna(axis=0, inplace = True)\n"
   ]
  },
  {
   "cell_type": "code",
   "execution_count": 9,
   "metadata": {},
   "outputs": [
    {
     "data": {
      "text/plain": [
       "(15762, 21)"
      ]
     },
     "execution_count": 9,
     "metadata": {},
     "output_type": "execute_result"
    }
   ],
   "source": [
    "df.shape"
   ]
  },
  {
   "cell_type": "code",
   "execution_count": 10,
   "metadata": {},
   "outputs": [
    {
     "data": {
      "text/plain": [
       "id               0\n",
       "date             0\n",
       "price            0\n",
       "bedrooms         0\n",
       "bathrooms        0\n",
       "sqft_living      0\n",
       "sqft_lot         0\n",
       "floors           0\n",
       "waterfront       0\n",
       "view             0\n",
       "condition        0\n",
       "grade            0\n",
       "sqft_above       0\n",
       "sqft_basement    0\n",
       "yr_built         0\n",
       "yr_renovated     0\n",
       "zipcode          0\n",
       "lat              0\n",
       "long             0\n",
       "sqft_living15    0\n",
       "sqft_lot15       0\n",
       "dtype: int64"
      ]
     },
     "execution_count": 10,
     "metadata": {},
     "output_type": "execute_result"
    }
   ],
   "source": [
    "\n",
    "null(df)"
   ]
  },
  {
   "cell_type": "code",
   "execution_count": 11,
   "metadata": {},
   "outputs": [
    {
     "data": {
      "text/plain": [
       "(15676, 21)"
      ]
     },
     "execution_count": 11,
     "metadata": {},
     "output_type": "execute_result"
    }
   ],
   "source": [
    "def drop_duplicates(df, subset=None):\n",
    "    \"\"\"\n",
    "    Drops duplicates from a pandas DataFrame based on a subset of columns and returns the new data frame\n",
    "\n",
    "   it takes in the df and the subset eg subset = \"id\"\n",
    "    \"\"\"\n",
    "    return df.drop_duplicates(subset=subset, keep = \"first\", inplace = True)\n",
    "\n",
    "# checking for and dropping duplicates using our user defined function\n",
    "drop_duplicates(df, subset='id')\n",
    "df.shape"
   ]
  },
  {
   "cell_type": "markdown",
   "metadata": {},
   "source": [
    "\n",
    "\n",
    "from the shape we can se that we did have duplicate values but we're good to go now<br>\n",
    "\n",
    "let's look at our statistical summarry\n"
   ]
  },
  {
   "cell_type": "code",
   "execution_count": 12,
   "metadata": {},
   "outputs": [
    {
     "data": {
      "text/html": [
       "<div>\n",
       "<style scoped>\n",
       "    .dataframe tbody tr th:only-of-type {\n",
       "        vertical-align: middle;\n",
       "    }\n",
       "\n",
       "    .dataframe tbody tr th {\n",
       "        vertical-align: top;\n",
       "    }\n",
       "\n",
       "    .dataframe thead th {\n",
       "        text-align: right;\n",
       "    }\n",
       "</style>\n",
       "<table border=\"1\" class=\"dataframe\">\n",
       "  <thead>\n",
       "    <tr style=\"text-align: right;\">\n",
       "      <th></th>\n",
       "      <th>id</th>\n",
       "      <th>price</th>\n",
       "      <th>bedrooms</th>\n",
       "      <th>bathrooms</th>\n",
       "      <th>sqft_living</th>\n",
       "      <th>sqft_lot</th>\n",
       "      <th>floors</th>\n",
       "      <th>sqft_above</th>\n",
       "      <th>yr_built</th>\n",
       "      <th>yr_renovated</th>\n",
       "      <th>zipcode</th>\n",
       "      <th>lat</th>\n",
       "      <th>long</th>\n",
       "      <th>sqft_living15</th>\n",
       "      <th>sqft_lot15</th>\n",
       "    </tr>\n",
       "  </thead>\n",
       "  <tbody>\n",
       "    <tr>\n",
       "      <th>count</th>\n",
       "      <td>1.567600e+04</td>\n",
       "      <td>1.567600e+04</td>\n",
       "      <td>15676.000000</td>\n",
       "      <td>15676.000000</td>\n",
       "      <td>15676.000000</td>\n",
       "      <td>1.567600e+04</td>\n",
       "      <td>15676.000000</td>\n",
       "      <td>15676.000000</td>\n",
       "      <td>15676.000000</td>\n",
       "      <td>15676.000000</td>\n",
       "      <td>15676.000000</td>\n",
       "      <td>15676.000000</td>\n",
       "      <td>15676.000000</td>\n",
       "      <td>15676.000000</td>\n",
       "      <td>15676.000000</td>\n",
       "    </tr>\n",
       "    <tr>\n",
       "      <th>mean</th>\n",
       "      <td>4.593625e+09</td>\n",
       "      <td>5.414927e+05</td>\n",
       "      <td>3.379434</td>\n",
       "      <td>2.122066</td>\n",
       "      <td>2086.057285</td>\n",
       "      <td>1.529400e+04</td>\n",
       "      <td>1.496587</td>\n",
       "      <td>1794.363167</td>\n",
       "      <td>1971.165859</td>\n",
       "      <td>82.640278</td>\n",
       "      <td>98077.487114</td>\n",
       "      <td>47.559219</td>\n",
       "      <td>-122.213415</td>\n",
       "      <td>1991.289168</td>\n",
       "      <td>12911.040125</td>\n",
       "    </tr>\n",
       "    <tr>\n",
       "      <th>std</th>\n",
       "      <td>2.875440e+09</td>\n",
       "      <td>3.726037e+05</td>\n",
       "      <td>0.935193</td>\n",
       "      <td>0.766735</td>\n",
       "      <td>918.753332</td>\n",
       "      <td>4.189635e+04</td>\n",
       "      <td>0.539689</td>\n",
       "      <td>828.829546</td>\n",
       "      <td>29.351892</td>\n",
       "      <td>397.679588</td>\n",
       "      <td>53.366170</td>\n",
       "      <td>0.138651</td>\n",
       "      <td>0.140763</td>\n",
       "      <td>684.179299</td>\n",
       "      <td>28037.170327</td>\n",
       "    </tr>\n",
       "    <tr>\n",
       "      <th>min</th>\n",
       "      <td>1.000102e+06</td>\n",
       "      <td>8.200000e+04</td>\n",
       "      <td>1.000000</td>\n",
       "      <td>0.500000</td>\n",
       "      <td>370.000000</td>\n",
       "      <td>5.200000e+02</td>\n",
       "      <td>1.000000</td>\n",
       "      <td>370.000000</td>\n",
       "      <td>1900.000000</td>\n",
       "      <td>0.000000</td>\n",
       "      <td>98001.000000</td>\n",
       "      <td>47.155900</td>\n",
       "      <td>-122.519000</td>\n",
       "      <td>399.000000</td>\n",
       "      <td>659.000000</td>\n",
       "    </tr>\n",
       "    <tr>\n",
       "      <th>25%</th>\n",
       "      <td>2.126049e+09</td>\n",
       "      <td>3.210000e+05</td>\n",
       "      <td>3.000000</td>\n",
       "      <td>1.750000</td>\n",
       "      <td>1430.000000</td>\n",
       "      <td>5.045250e+03</td>\n",
       "      <td>1.000000</td>\n",
       "      <td>1200.000000</td>\n",
       "      <td>1952.000000</td>\n",
       "      <td>0.000000</td>\n",
       "      <td>98033.000000</td>\n",
       "      <td>47.469275</td>\n",
       "      <td>-122.328000</td>\n",
       "      <td>1490.000000</td>\n",
       "      <td>5100.000000</td>\n",
       "    </tr>\n",
       "    <tr>\n",
       "      <th>50%</th>\n",
       "      <td>3.905081e+09</td>\n",
       "      <td>4.500000e+05</td>\n",
       "      <td>3.000000</td>\n",
       "      <td>2.250000</td>\n",
       "      <td>1920.000000</td>\n",
       "      <td>7.600000e+03</td>\n",
       "      <td>1.500000</td>\n",
       "      <td>1570.000000</td>\n",
       "      <td>1975.000000</td>\n",
       "      <td>0.000000</td>\n",
       "      <td>98065.000000</td>\n",
       "      <td>47.571150</td>\n",
       "      <td>-122.229000</td>\n",
       "      <td>1850.000000</td>\n",
       "      <td>7620.000000</td>\n",
       "    </tr>\n",
       "    <tr>\n",
       "      <th>75%</th>\n",
       "      <td>7.334501e+09</td>\n",
       "      <td>6.450000e+05</td>\n",
       "      <td>4.000000</td>\n",
       "      <td>2.500000</td>\n",
       "      <td>2550.000000</td>\n",
       "      <td>1.071700e+04</td>\n",
       "      <td>2.000000</td>\n",
       "      <td>2220.000000</td>\n",
       "      <td>1997.000000</td>\n",
       "      <td>0.000000</td>\n",
       "      <td>98117.000000</td>\n",
       "      <td>47.677400</td>\n",
       "      <td>-122.124000</td>\n",
       "      <td>2370.000000</td>\n",
       "      <td>10102.250000</td>\n",
       "    </tr>\n",
       "    <tr>\n",
       "      <th>max</th>\n",
       "      <td>9.895000e+09</td>\n",
       "      <td>7.700000e+06</td>\n",
       "      <td>33.000000</td>\n",
       "      <td>8.000000</td>\n",
       "      <td>13540.000000</td>\n",
       "      <td>1.651359e+06</td>\n",
       "      <td>3.500000</td>\n",
       "      <td>9410.000000</td>\n",
       "      <td>2015.000000</td>\n",
       "      <td>2015.000000</td>\n",
       "      <td>98199.000000</td>\n",
       "      <td>47.777600</td>\n",
       "      <td>-121.315000</td>\n",
       "      <td>6210.000000</td>\n",
       "      <td>871200.000000</td>\n",
       "    </tr>\n",
       "  </tbody>\n",
       "</table>\n",
       "</div>"
      ],
      "text/plain": [
       "                 id         price      bedrooms     bathrooms   sqft_living  \\\n",
       "count  1.567600e+04  1.567600e+04  15676.000000  15676.000000  15676.000000   \n",
       "mean   4.593625e+09  5.414927e+05      3.379434      2.122066   2086.057285   \n",
       "std    2.875440e+09  3.726037e+05      0.935193      0.766735    918.753332   \n",
       "min    1.000102e+06  8.200000e+04      1.000000      0.500000    370.000000   \n",
       "25%    2.126049e+09  3.210000e+05      3.000000      1.750000   1430.000000   \n",
       "50%    3.905081e+09  4.500000e+05      3.000000      2.250000   1920.000000   \n",
       "75%    7.334501e+09  6.450000e+05      4.000000      2.500000   2550.000000   \n",
       "max    9.895000e+09  7.700000e+06     33.000000      8.000000  13540.000000   \n",
       "\n",
       "           sqft_lot        floors    sqft_above      yr_built  yr_renovated  \\\n",
       "count  1.567600e+04  15676.000000  15676.000000  15676.000000  15676.000000   \n",
       "mean   1.529400e+04      1.496587   1794.363167   1971.165859     82.640278   \n",
       "std    4.189635e+04      0.539689    828.829546     29.351892    397.679588   \n",
       "min    5.200000e+02      1.000000    370.000000   1900.000000      0.000000   \n",
       "25%    5.045250e+03      1.000000   1200.000000   1952.000000      0.000000   \n",
       "50%    7.600000e+03      1.500000   1570.000000   1975.000000      0.000000   \n",
       "75%    1.071700e+04      2.000000   2220.000000   1997.000000      0.000000   \n",
       "max    1.651359e+06      3.500000   9410.000000   2015.000000   2015.000000   \n",
       "\n",
       "            zipcode           lat          long  sqft_living15     sqft_lot15  \n",
       "count  15676.000000  15676.000000  15676.000000   15676.000000   15676.000000  \n",
       "mean   98077.487114     47.559219   -122.213415    1991.289168   12911.040125  \n",
       "std       53.366170      0.138651      0.140763     684.179299   28037.170327  \n",
       "min    98001.000000     47.155900   -122.519000     399.000000     659.000000  \n",
       "25%    98033.000000     47.469275   -122.328000    1490.000000    5100.000000  \n",
       "50%    98065.000000     47.571150   -122.229000    1850.000000    7620.000000  \n",
       "75%    98117.000000     47.677400   -122.124000    2370.000000   10102.250000  \n",
       "max    98199.000000     47.777600   -121.315000    6210.000000  871200.000000  "
      ]
     },
     "execution_count": 12,
     "metadata": {},
     "output_type": "execute_result"
    }
   ],
   "source": [
    "df.describe()"
   ]
  },
  {
   "cell_type": "markdown",
   "metadata": {},
   "source": [
    "statistical summary observation count for each column is 15676 this confirms that we dont have missing values. The mean value of the house price is 541,492.7 USD  while the minimum house price is 82,000 USD and maximum house price is USD 7,700,000 The standard deviation of the house price stands at USD 372,603.7"
   ]
  },
  {
   "cell_type": "markdown",
   "metadata": {},
   "source": [
    "now let's do a bit of feature engineering<br>\n",
    "our data has the columns year built and year renovated, this however has very little significance to us, what will be of use though is how old it is and how long ago it was renovated, we will use the day it was sold as a reference to get those"
   ]
  },
  {
   "cell_type": "code",
   "execution_count": 13,
   "metadata": {},
   "outputs": [
    {
     "data": {
      "text/html": [
       "<div>\n",
       "<style scoped>\n",
       "    .dataframe tbody tr th:only-of-type {\n",
       "        vertical-align: middle;\n",
       "    }\n",
       "\n",
       "    .dataframe tbody tr th {\n",
       "        vertical-align: top;\n",
       "    }\n",
       "\n",
       "    .dataframe thead th {\n",
       "        text-align: right;\n",
       "    }\n",
       "</style>\n",
       "<table border=\"1\" class=\"dataframe\">\n",
       "  <thead>\n",
       "    <tr style=\"text-align: right;\">\n",
       "      <th></th>\n",
       "      <th>id</th>\n",
       "      <th>price</th>\n",
       "      <th>bedrooms</th>\n",
       "      <th>bathrooms</th>\n",
       "      <th>sqft_living</th>\n",
       "      <th>sqft_lot</th>\n",
       "      <th>floors</th>\n",
       "      <th>waterfront</th>\n",
       "      <th>view</th>\n",
       "      <th>condition</th>\n",
       "      <th>grade</th>\n",
       "      <th>sqft_above</th>\n",
       "      <th>sqft_basement</th>\n",
       "      <th>zipcode</th>\n",
       "      <th>lat</th>\n",
       "      <th>long</th>\n",
       "      <th>sqft_living15</th>\n",
       "      <th>sqft_lot15</th>\n",
       "      <th>house_age</th>\n",
       "      <th>renovation_age</th>\n",
       "    </tr>\n",
       "  </thead>\n",
       "  <tbody>\n",
       "    <tr>\n",
       "      <th>1</th>\n",
       "      <td>6414100192</td>\n",
       "      <td>538000.0</td>\n",
       "      <td>3</td>\n",
       "      <td>2.25</td>\n",
       "      <td>2570</td>\n",
       "      <td>7242</td>\n",
       "      <td>2.0</td>\n",
       "      <td>NO</td>\n",
       "      <td>NONE</td>\n",
       "      <td>Average</td>\n",
       "      <td>7 Average</td>\n",
       "      <td>2170</td>\n",
       "      <td>400.0</td>\n",
       "      <td>98125</td>\n",
       "      <td>47.7210</td>\n",
       "      <td>-122.319</td>\n",
       "      <td>1690</td>\n",
       "      <td>7639</td>\n",
       "      <td>539.203285</td>\n",
       "      <td>539.203285</td>\n",
       "    </tr>\n",
       "    <tr>\n",
       "      <th>3</th>\n",
       "      <td>2487200875</td>\n",
       "      <td>604000.0</td>\n",
       "      <td>4</td>\n",
       "      <td>3.00</td>\n",
       "      <td>1960</td>\n",
       "      <td>5000</td>\n",
       "      <td>1.0</td>\n",
       "      <td>NO</td>\n",
       "      <td>NONE</td>\n",
       "      <td>Very Good</td>\n",
       "      <td>7 Average</td>\n",
       "      <td>1050</td>\n",
       "      <td>910.0</td>\n",
       "      <td>98136</td>\n",
       "      <td>47.5208</td>\n",
       "      <td>-122.393</td>\n",
       "      <td>1360</td>\n",
       "      <td>5000</td>\n",
       "      <td>539.203285</td>\n",
       "      <td>539.236140</td>\n",
       "    </tr>\n",
       "    <tr>\n",
       "      <th>4</th>\n",
       "      <td>1954400510</td>\n",
       "      <td>510000.0</td>\n",
       "      <td>3</td>\n",
       "      <td>2.00</td>\n",
       "      <td>1680</td>\n",
       "      <td>8080</td>\n",
       "      <td>1.0</td>\n",
       "      <td>NO</td>\n",
       "      <td>NONE</td>\n",
       "      <td>Average</td>\n",
       "      <td>8 Good</td>\n",
       "      <td>1680</td>\n",
       "      <td>0.0</td>\n",
       "      <td>98074</td>\n",
       "      <td>47.6168</td>\n",
       "      <td>-122.045</td>\n",
       "      <td>1800</td>\n",
       "      <td>7503</td>\n",
       "      <td>541.535934</td>\n",
       "      <td>541.568789</td>\n",
       "    </tr>\n",
       "    <tr>\n",
       "      <th>5</th>\n",
       "      <td>7237550310</td>\n",
       "      <td>1230000.0</td>\n",
       "      <td>4</td>\n",
       "      <td>4.50</td>\n",
       "      <td>5420</td>\n",
       "      <td>101930</td>\n",
       "      <td>1.0</td>\n",
       "      <td>NO</td>\n",
       "      <td>NONE</td>\n",
       "      <td>Average</td>\n",
       "      <td>11 Excellent</td>\n",
       "      <td>3890</td>\n",
       "      <td>1530.0</td>\n",
       "      <td>98053</td>\n",
       "      <td>47.6561</td>\n",
       "      <td>-122.005</td>\n",
       "      <td>4760</td>\n",
       "      <td>101930</td>\n",
       "      <td>532.271047</td>\n",
       "      <td>532.303901</td>\n",
       "    </tr>\n",
       "    <tr>\n",
       "      <th>6</th>\n",
       "      <td>1321400060</td>\n",
       "      <td>257500.0</td>\n",
       "      <td>3</td>\n",
       "      <td>2.25</td>\n",
       "      <td>1715</td>\n",
       "      <td>6819</td>\n",
       "      <td>2.0</td>\n",
       "      <td>NO</td>\n",
       "      <td>NONE</td>\n",
       "      <td>Average</td>\n",
       "      <td>7 Average</td>\n",
       "      <td>1715</td>\n",
       "      <td>?</td>\n",
       "      <td>98003</td>\n",
       "      <td>47.3097</td>\n",
       "      <td>-122.327</td>\n",
       "      <td>2238</td>\n",
       "      <td>6819</td>\n",
       "      <td>533.782341</td>\n",
       "      <td>533.815195</td>\n",
       "    </tr>\n",
       "    <tr>\n",
       "      <th>8</th>\n",
       "      <td>2414600126</td>\n",
       "      <td>229500.0</td>\n",
       "      <td>3</td>\n",
       "      <td>1.00</td>\n",
       "      <td>1780</td>\n",
       "      <td>7470</td>\n",
       "      <td>1.0</td>\n",
       "      <td>NO</td>\n",
       "      <td>NONE</td>\n",
       "      <td>Average</td>\n",
       "      <td>7 Average</td>\n",
       "      <td>1050</td>\n",
       "      <td>730.0</td>\n",
       "      <td>98146</td>\n",
       "      <td>47.5123</td>\n",
       "      <td>-122.337</td>\n",
       "      <td>1780</td>\n",
       "      <td>8113</td>\n",
       "      <td>543.375770</td>\n",
       "      <td>543.408624</td>\n",
       "    </tr>\n",
       "    <tr>\n",
       "      <th>9</th>\n",
       "      <td>3793500160</td>\n",
       "      <td>323000.0</td>\n",
       "      <td>3</td>\n",
       "      <td>2.50</td>\n",
       "      <td>1890</td>\n",
       "      <td>6560</td>\n",
       "      <td>2.0</td>\n",
       "      <td>NO</td>\n",
       "      <td>NONE</td>\n",
       "      <td>Average</td>\n",
       "      <td>7 Average</td>\n",
       "      <td>1890</td>\n",
       "      <td>0.0</td>\n",
       "      <td>98038</td>\n",
       "      <td>47.3684</td>\n",
       "      <td>-122.031</td>\n",
       "      <td>2390</td>\n",
       "      <td>7570</td>\n",
       "      <td>542.258727</td>\n",
       "      <td>542.291581</td>\n",
       "    </tr>\n",
       "    <tr>\n",
       "      <th>11</th>\n",
       "      <td>9212900260</td>\n",
       "      <td>468000.0</td>\n",
       "      <td>2</td>\n",
       "      <td>1.00</td>\n",
       "      <td>1160</td>\n",
       "      <td>6000</td>\n",
       "      <td>1.0</td>\n",
       "      <td>NO</td>\n",
       "      <td>NONE</td>\n",
       "      <td>Good</td>\n",
       "      <td>7 Average</td>\n",
       "      <td>860</td>\n",
       "      <td>300.0</td>\n",
       "      <td>98115</td>\n",
       "      <td>47.6900</td>\n",
       "      <td>-122.292</td>\n",
       "      <td>1330</td>\n",
       "      <td>6000</td>\n",
       "      <td>532.763860</td>\n",
       "      <td>532.796715</td>\n",
       "    </tr>\n",
       "    <tr>\n",
       "      <th>13</th>\n",
       "      <td>6054650070</td>\n",
       "      <td>400000.0</td>\n",
       "      <td>3</td>\n",
       "      <td>1.75</td>\n",
       "      <td>1370</td>\n",
       "      <td>9680</td>\n",
       "      <td>1.0</td>\n",
       "      <td>NO</td>\n",
       "      <td>NONE</td>\n",
       "      <td>Good</td>\n",
       "      <td>7 Average</td>\n",
       "      <td>1370</td>\n",
       "      <td>0.0</td>\n",
       "      <td>98074</td>\n",
       "      <td>47.6127</td>\n",
       "      <td>-122.045</td>\n",
       "      <td>1370</td>\n",
       "      <td>10208</td>\n",
       "      <td>537.133470</td>\n",
       "      <td>537.166324</td>\n",
       "    </tr>\n",
       "    <tr>\n",
       "      <th>14</th>\n",
       "      <td>1175000570</td>\n",
       "      <td>530000.0</td>\n",
       "      <td>5</td>\n",
       "      <td>2.00</td>\n",
       "      <td>1810</td>\n",
       "      <td>4850</td>\n",
       "      <td>1.5</td>\n",
       "      <td>NO</td>\n",
       "      <td>NONE</td>\n",
       "      <td>Average</td>\n",
       "      <td>7 Average</td>\n",
       "      <td>1810</td>\n",
       "      <td>0.0</td>\n",
       "      <td>98107</td>\n",
       "      <td>47.6700</td>\n",
       "      <td>-122.394</td>\n",
       "      <td>1360</td>\n",
       "      <td>4850</td>\n",
       "      <td>542.258727</td>\n",
       "      <td>542.291581</td>\n",
       "    </tr>\n",
       "  </tbody>\n",
       "</table>\n",
       "</div>"
      ],
      "text/plain": [
       "            id      price  bedrooms  bathrooms  sqft_living  sqft_lot  floors  \\\n",
       "1   6414100192   538000.0         3       2.25         2570      7242     2.0   \n",
       "3   2487200875   604000.0         4       3.00         1960      5000     1.0   \n",
       "4   1954400510   510000.0         3       2.00         1680      8080     1.0   \n",
       "5   7237550310  1230000.0         4       4.50         5420    101930     1.0   \n",
       "6   1321400060   257500.0         3       2.25         1715      6819     2.0   \n",
       "8   2414600126   229500.0         3       1.00         1780      7470     1.0   \n",
       "9   3793500160   323000.0         3       2.50         1890      6560     2.0   \n",
       "11  9212900260   468000.0         2       1.00         1160      6000     1.0   \n",
       "13  6054650070   400000.0         3       1.75         1370      9680     1.0   \n",
       "14  1175000570   530000.0         5       2.00         1810      4850     1.5   \n",
       "\n",
       "   waterfront  view  condition         grade  sqft_above sqft_basement  \\\n",
       "1          NO  NONE    Average     7 Average        2170         400.0   \n",
       "3          NO  NONE  Very Good     7 Average        1050         910.0   \n",
       "4          NO  NONE    Average        8 Good        1680           0.0   \n",
       "5          NO  NONE    Average  11 Excellent        3890        1530.0   \n",
       "6          NO  NONE    Average     7 Average        1715             ?   \n",
       "8          NO  NONE    Average     7 Average        1050         730.0   \n",
       "9          NO  NONE    Average     7 Average        1890           0.0   \n",
       "11         NO  NONE       Good     7 Average         860         300.0   \n",
       "13         NO  NONE       Good     7 Average        1370           0.0   \n",
       "14         NO  NONE    Average     7 Average        1810           0.0   \n",
       "\n",
       "    zipcode      lat     long  sqft_living15  sqft_lot15   house_age  \\\n",
       "1     98125  47.7210 -122.319           1690        7639  539.203285   \n",
       "3     98136  47.5208 -122.393           1360        5000  539.203285   \n",
       "4     98074  47.6168 -122.045           1800        7503  541.535934   \n",
       "5     98053  47.6561 -122.005           4760      101930  532.271047   \n",
       "6     98003  47.3097 -122.327           2238        6819  533.782341   \n",
       "8     98146  47.5123 -122.337           1780        8113  543.375770   \n",
       "9     98038  47.3684 -122.031           2390        7570  542.258727   \n",
       "11    98115  47.6900 -122.292           1330        6000  532.763860   \n",
       "13    98074  47.6127 -122.045           1370       10208  537.133470   \n",
       "14    98107  47.6700 -122.394           1360        4850  542.258727   \n",
       "\n",
       "    renovation_age  \n",
       "1       539.203285  \n",
       "3       539.236140  \n",
       "4       541.568789  \n",
       "5       532.303901  \n",
       "6       533.815195  \n",
       "8       543.408624  \n",
       "9       542.291581  \n",
       "11      532.796715  \n",
       "13      537.166324  \n",
       "14      542.291581  "
      ]
     },
     "execution_count": 13,
     "metadata": {},
     "output_type": "execute_result"
    }
   ],
   "source": [
    "# our dates are in int and float, let's convert them to proper date format\n",
    "date_sold=pd.to_datetime(df['date'])\n",
    "last_renovation = pd.to_datetime(df['yr_renovated'])\n",
    "date_built = pd.to_datetime(df['yr_built'])\n",
    "\n",
    "# Calculate the age of the house in months\n",
    "df['house_age'] = (date_sold - date_built).dt.days / 30.4375\n",
    "# Calculate the age since last renovation in months\n",
    "df['renovation_age'] = (date_sold - last_renovation).dt.days / 30.4375\n",
    "\n",
    "#drop columns we're no longer using\n",
    "df.drop(columns=['date', 'yr_renovated', 'yr_built'], inplace=True)\n",
    "df.head(10)"
   ]
  },
  {
   "cell_type": "code",
   "execution_count": 14,
   "metadata": {},
   "outputs": [
    {
     "data": {
      "text/html": [
       "<div>\n",
       "<style scoped>\n",
       "    .dataframe tbody tr th:only-of-type {\n",
       "        vertical-align: middle;\n",
       "    }\n",
       "\n",
       "    .dataframe tbody tr th {\n",
       "        vertical-align: top;\n",
       "    }\n",
       "\n",
       "    .dataframe thead th {\n",
       "        text-align: right;\n",
       "    }\n",
       "</style>\n",
       "<table border=\"1\" class=\"dataframe\">\n",
       "  <thead>\n",
       "    <tr style=\"text-align: right;\">\n",
       "      <th></th>\n",
       "      <th>id</th>\n",
       "      <th>price</th>\n",
       "      <th>bedrooms</th>\n",
       "      <th>bathrooms</th>\n",
       "      <th>sqft_living</th>\n",
       "      <th>sqft_lot</th>\n",
       "      <th>floors</th>\n",
       "      <th>waterfront</th>\n",
       "      <th>view</th>\n",
       "      <th>condition</th>\n",
       "      <th>grade</th>\n",
       "      <th>sqft_above</th>\n",
       "      <th>sqft_basement</th>\n",
       "      <th>zipcode</th>\n",
       "      <th>lat</th>\n",
       "      <th>long</th>\n",
       "      <th>sqft_living15</th>\n",
       "      <th>sqft_lot15</th>\n",
       "      <th>house_age</th>\n",
       "      <th>renovation_age</th>\n",
       "    </tr>\n",
       "  </thead>\n",
       "  <tbody>\n",
       "    <tr>\n",
       "      <th>1</th>\n",
       "      <td>6414100192</td>\n",
       "      <td>538000.0</td>\n",
       "      <td>3</td>\n",
       "      <td>2.25</td>\n",
       "      <td>2570</td>\n",
       "      <td>7242</td>\n",
       "      <td>2.0</td>\n",
       "      <td>NO</td>\n",
       "      <td>NONE</td>\n",
       "      <td>3</td>\n",
       "      <td>7 Average</td>\n",
       "      <td>2170</td>\n",
       "      <td>400.0</td>\n",
       "      <td>98125</td>\n",
       "      <td>47.7210</td>\n",
       "      <td>-122.319</td>\n",
       "      <td>1690</td>\n",
       "      <td>7639</td>\n",
       "      <td>539.203285</td>\n",
       "      <td>539.203285</td>\n",
       "    </tr>\n",
       "    <tr>\n",
       "      <th>3</th>\n",
       "      <td>2487200875</td>\n",
       "      <td>604000.0</td>\n",
       "      <td>4</td>\n",
       "      <td>3.00</td>\n",
       "      <td>1960</td>\n",
       "      <td>5000</td>\n",
       "      <td>1.0</td>\n",
       "      <td>NO</td>\n",
       "      <td>NONE</td>\n",
       "      <td>5</td>\n",
       "      <td>7 Average</td>\n",
       "      <td>1050</td>\n",
       "      <td>910.0</td>\n",
       "      <td>98136</td>\n",
       "      <td>47.5208</td>\n",
       "      <td>-122.393</td>\n",
       "      <td>1360</td>\n",
       "      <td>5000</td>\n",
       "      <td>539.203285</td>\n",
       "      <td>539.236140</td>\n",
       "    </tr>\n",
       "    <tr>\n",
       "      <th>4</th>\n",
       "      <td>1954400510</td>\n",
       "      <td>510000.0</td>\n",
       "      <td>3</td>\n",
       "      <td>2.00</td>\n",
       "      <td>1680</td>\n",
       "      <td>8080</td>\n",
       "      <td>1.0</td>\n",
       "      <td>NO</td>\n",
       "      <td>NONE</td>\n",
       "      <td>3</td>\n",
       "      <td>8 Good</td>\n",
       "      <td>1680</td>\n",
       "      <td>0.0</td>\n",
       "      <td>98074</td>\n",
       "      <td>47.6168</td>\n",
       "      <td>-122.045</td>\n",
       "      <td>1800</td>\n",
       "      <td>7503</td>\n",
       "      <td>541.535934</td>\n",
       "      <td>541.568789</td>\n",
       "    </tr>\n",
       "    <tr>\n",
       "      <th>5</th>\n",
       "      <td>7237550310</td>\n",
       "      <td>1230000.0</td>\n",
       "      <td>4</td>\n",
       "      <td>4.50</td>\n",
       "      <td>5420</td>\n",
       "      <td>101930</td>\n",
       "      <td>1.0</td>\n",
       "      <td>NO</td>\n",
       "      <td>NONE</td>\n",
       "      <td>3</td>\n",
       "      <td>11 Excellent</td>\n",
       "      <td>3890</td>\n",
       "      <td>1530.0</td>\n",
       "      <td>98053</td>\n",
       "      <td>47.6561</td>\n",
       "      <td>-122.005</td>\n",
       "      <td>4760</td>\n",
       "      <td>101930</td>\n",
       "      <td>532.271047</td>\n",
       "      <td>532.303901</td>\n",
       "    </tr>\n",
       "    <tr>\n",
       "      <th>6</th>\n",
       "      <td>1321400060</td>\n",
       "      <td>257500.0</td>\n",
       "      <td>3</td>\n",
       "      <td>2.25</td>\n",
       "      <td>1715</td>\n",
       "      <td>6819</td>\n",
       "      <td>2.0</td>\n",
       "      <td>NO</td>\n",
       "      <td>NONE</td>\n",
       "      <td>3</td>\n",
       "      <td>7 Average</td>\n",
       "      <td>1715</td>\n",
       "      <td>?</td>\n",
       "      <td>98003</td>\n",
       "      <td>47.3097</td>\n",
       "      <td>-122.327</td>\n",
       "      <td>2238</td>\n",
       "      <td>6819</td>\n",
       "      <td>533.782341</td>\n",
       "      <td>533.815195</td>\n",
       "    </tr>\n",
       "    <tr>\n",
       "      <th>8</th>\n",
       "      <td>2414600126</td>\n",
       "      <td>229500.0</td>\n",
       "      <td>3</td>\n",
       "      <td>1.00</td>\n",
       "      <td>1780</td>\n",
       "      <td>7470</td>\n",
       "      <td>1.0</td>\n",
       "      <td>NO</td>\n",
       "      <td>NONE</td>\n",
       "      <td>3</td>\n",
       "      <td>7 Average</td>\n",
       "      <td>1050</td>\n",
       "      <td>730.0</td>\n",
       "      <td>98146</td>\n",
       "      <td>47.5123</td>\n",
       "      <td>-122.337</td>\n",
       "      <td>1780</td>\n",
       "      <td>8113</td>\n",
       "      <td>543.375770</td>\n",
       "      <td>543.408624</td>\n",
       "    </tr>\n",
       "    <tr>\n",
       "      <th>9</th>\n",
       "      <td>3793500160</td>\n",
       "      <td>323000.0</td>\n",
       "      <td>3</td>\n",
       "      <td>2.50</td>\n",
       "      <td>1890</td>\n",
       "      <td>6560</td>\n",
       "      <td>2.0</td>\n",
       "      <td>NO</td>\n",
       "      <td>NONE</td>\n",
       "      <td>3</td>\n",
       "      <td>7 Average</td>\n",
       "      <td>1890</td>\n",
       "      <td>0.0</td>\n",
       "      <td>98038</td>\n",
       "      <td>47.3684</td>\n",
       "      <td>-122.031</td>\n",
       "      <td>2390</td>\n",
       "      <td>7570</td>\n",
       "      <td>542.258727</td>\n",
       "      <td>542.291581</td>\n",
       "    </tr>\n",
       "    <tr>\n",
       "      <th>11</th>\n",
       "      <td>9212900260</td>\n",
       "      <td>468000.0</td>\n",
       "      <td>2</td>\n",
       "      <td>1.00</td>\n",
       "      <td>1160</td>\n",
       "      <td>6000</td>\n",
       "      <td>1.0</td>\n",
       "      <td>NO</td>\n",
       "      <td>NONE</td>\n",
       "      <td>4</td>\n",
       "      <td>7 Average</td>\n",
       "      <td>860</td>\n",
       "      <td>300.0</td>\n",
       "      <td>98115</td>\n",
       "      <td>47.6900</td>\n",
       "      <td>-122.292</td>\n",
       "      <td>1330</td>\n",
       "      <td>6000</td>\n",
       "      <td>532.763860</td>\n",
       "      <td>532.796715</td>\n",
       "    </tr>\n",
       "    <tr>\n",
       "      <th>13</th>\n",
       "      <td>6054650070</td>\n",
       "      <td>400000.0</td>\n",
       "      <td>3</td>\n",
       "      <td>1.75</td>\n",
       "      <td>1370</td>\n",
       "      <td>9680</td>\n",
       "      <td>1.0</td>\n",
       "      <td>NO</td>\n",
       "      <td>NONE</td>\n",
       "      <td>4</td>\n",
       "      <td>7 Average</td>\n",
       "      <td>1370</td>\n",
       "      <td>0.0</td>\n",
       "      <td>98074</td>\n",
       "      <td>47.6127</td>\n",
       "      <td>-122.045</td>\n",
       "      <td>1370</td>\n",
       "      <td>10208</td>\n",
       "      <td>537.133470</td>\n",
       "      <td>537.166324</td>\n",
       "    </tr>\n",
       "    <tr>\n",
       "      <th>14</th>\n",
       "      <td>1175000570</td>\n",
       "      <td>530000.0</td>\n",
       "      <td>5</td>\n",
       "      <td>2.00</td>\n",
       "      <td>1810</td>\n",
       "      <td>4850</td>\n",
       "      <td>1.5</td>\n",
       "      <td>NO</td>\n",
       "      <td>NONE</td>\n",
       "      <td>3</td>\n",
       "      <td>7 Average</td>\n",
       "      <td>1810</td>\n",
       "      <td>0.0</td>\n",
       "      <td>98107</td>\n",
       "      <td>47.6700</td>\n",
       "      <td>-122.394</td>\n",
       "      <td>1360</td>\n",
       "      <td>4850</td>\n",
       "      <td>542.258727</td>\n",
       "      <td>542.291581</td>\n",
       "    </tr>\n",
       "  </tbody>\n",
       "</table>\n",
       "</div>"
      ],
      "text/plain": [
       "            id      price  bedrooms  bathrooms  sqft_living  sqft_lot  floors  \\\n",
       "1   6414100192   538000.0         3       2.25         2570      7242     2.0   \n",
       "3   2487200875   604000.0         4       3.00         1960      5000     1.0   \n",
       "4   1954400510   510000.0         3       2.00         1680      8080     1.0   \n",
       "5   7237550310  1230000.0         4       4.50         5420    101930     1.0   \n",
       "6   1321400060   257500.0         3       2.25         1715      6819     2.0   \n",
       "8   2414600126   229500.0         3       1.00         1780      7470     1.0   \n",
       "9   3793500160   323000.0         3       2.50         1890      6560     2.0   \n",
       "11  9212900260   468000.0         2       1.00         1160      6000     1.0   \n",
       "13  6054650070   400000.0         3       1.75         1370      9680     1.0   \n",
       "14  1175000570   530000.0         5       2.00         1810      4850     1.5   \n",
       "\n",
       "   waterfront  view  condition         grade  sqft_above sqft_basement  \\\n",
       "1          NO  NONE          3     7 Average        2170         400.0   \n",
       "3          NO  NONE          5     7 Average        1050         910.0   \n",
       "4          NO  NONE          3        8 Good        1680           0.0   \n",
       "5          NO  NONE          3  11 Excellent        3890        1530.0   \n",
       "6          NO  NONE          3     7 Average        1715             ?   \n",
       "8          NO  NONE          3     7 Average        1050         730.0   \n",
       "9          NO  NONE          3     7 Average        1890           0.0   \n",
       "11         NO  NONE          4     7 Average         860         300.0   \n",
       "13         NO  NONE          4     7 Average        1370           0.0   \n",
       "14         NO  NONE          3     7 Average        1810           0.0   \n",
       "\n",
       "    zipcode      lat     long  sqft_living15  sqft_lot15   house_age  \\\n",
       "1     98125  47.7210 -122.319           1690        7639  539.203285   \n",
       "3     98136  47.5208 -122.393           1360        5000  539.203285   \n",
       "4     98074  47.6168 -122.045           1800        7503  541.535934   \n",
       "5     98053  47.6561 -122.005           4760      101930  532.271047   \n",
       "6     98003  47.3097 -122.327           2238        6819  533.782341   \n",
       "8     98146  47.5123 -122.337           1780        8113  543.375770   \n",
       "9     98038  47.3684 -122.031           2390        7570  542.258727   \n",
       "11    98115  47.6900 -122.292           1330        6000  532.763860   \n",
       "13    98074  47.6127 -122.045           1370       10208  537.133470   \n",
       "14    98107  47.6700 -122.394           1360        4850  542.258727   \n",
       "\n",
       "    renovation_age  \n",
       "1       539.203285  \n",
       "3       539.236140  \n",
       "4       541.568789  \n",
       "5       532.303901  \n",
       "6       533.815195  \n",
       "8       543.408624  \n",
       "9       542.291581  \n",
       "11      532.796715  \n",
       "13      537.166324  \n",
       "14      542.291581  "
      ]
     },
     "execution_count": 14,
     "metadata": {},
     "output_type": "execute_result"
    }
   ],
   "source": [
    "#transformation of categorical values 'condition' column\n",
    "df['condition'].replace(to_replace=['Poor', 'Fair', 'Average', 'Good', 'Very Good'], value=[1, 2, 3, 4, 5], inplace=True)\n",
    "df.head(10)"
   ]
  },
  {
   "cell_type": "code",
   "execution_count": 15,
   "metadata": {},
   "outputs": [
    {
     "name": "stdout",
     "output_type": "stream",
     "text": [
      "<class 'pandas.core.frame.DataFrame'>\n",
      "Int64Index: 15676 entries, 1 to 21596\n",
      "Data columns (total 20 columns):\n",
      " #   Column          Non-Null Count  Dtype  \n",
      "---  ------          --------------  -----  \n",
      " 0   id              15676 non-null  int64  \n",
      " 1   price           15676 non-null  float64\n",
      " 2   bedrooms        15676 non-null  int64  \n",
      " 3   bathrooms       15676 non-null  float64\n",
      " 4   sqft_living     15676 non-null  int64  \n",
      " 5   sqft_lot        15676 non-null  int64  \n",
      " 6   floors          15676 non-null  float64\n",
      " 7   waterfront      15676 non-null  object \n",
      " 8   view            15676 non-null  object \n",
      " 9   condition       15676 non-null  int64  \n",
      " 10  grade           15676 non-null  object \n",
      " 11  sqft_above      15676 non-null  int64  \n",
      " 12  sqft_basement   15676 non-null  object \n",
      " 13  zipcode         15676 non-null  int64  \n",
      " 14  lat             15676 non-null  float64\n",
      " 15  long            15676 non-null  float64\n",
      " 16  sqft_living15   15676 non-null  int64  \n",
      " 17  sqft_lot15      15676 non-null  int64  \n",
      " 18  house_age       15676 non-null  float64\n",
      " 19  renovation_age  15676 non-null  float64\n",
      "dtypes: float64(7), int64(9), object(4)\n",
      "memory usage: 2.5+ MB\n"
     ]
    }
   ],
   "source": [
    "df.info()"
   ]
  },
  {
   "cell_type": "code",
   "execution_count": 16,
   "metadata": {},
   "outputs": [
    {
     "data": {
      "text/plain": [
       "dtype('int64')"
      ]
     },
     "execution_count": 16,
     "metadata": {},
     "output_type": "execute_result"
    }
   ],
   "source": [
    "# from our data we can also see that sqft_basement is data type object wich may impact our modelling later\n",
    "# so lets convert it to int and remove ? from our data\n",
    "#convert basement into int and remove ?\n",
    "df['sqft_basement'] = df['sqft_basement'].apply(lambda x: 0 if x=='?' else int(x.split('.')[0]))\n",
    "\n",
    "# lets check the data type of sqft_basement\n",
    "df['sqft_basement'].dtype"
   ]
  },
  {
   "cell_type": "markdown",
   "metadata": {},
   "source": [
    "the next step will be to check for outliers"
   ]
  },
  {
   "cell_type": "code",
   "execution_count": 17,
   "metadata": {},
   "outputs": [
    {
     "data": {
      "text/plain": [
       "15676"
      ]
     },
     "execution_count": 17,
     "metadata": {},
     "output_type": "execute_result"
    }
   ],
   "source": [
    "len(df)"
   ]
  },
  {
   "cell_type": "code",
   "execution_count": 18,
   "metadata": {},
   "outputs": [],
   "source": [
    "#removing outliers\n",
    "def remove_outliers_zscore(df):\n",
    "    \"\"\"\n",
    "    takes in a dataframe and removes outliers from a dataframe using Z-score method.\n",
    "    \n",
    "    \"\"\"\n",
    "    import numpy as np\n",
    "    # Calculate Z-scores\n",
    "    z_scores = np.abs((df - df.mean()) / df.std())\n",
    "    \n",
    "    # Identify outliers\n",
    "    outliers_z = df[(z_scores > 3).any(axis=1)]\n",
    "    \n",
    "    # Remove outliers from dataframe\n",
    "    df_cleaned = df.drop(outliers_z.index)\n",
    "    return df_cleaned\n",
    "df = remove_outliers_zscore(df)\n"
   ]
  },
  {
   "cell_type": "code",
   "execution_count": 19,
   "metadata": {},
   "outputs": [
    {
     "data": {
      "image/png": "[encoded data removed]",
      "text/plain": [
       "<Figure size 432x288 with 1 Axes>"
      ]
     },
     "metadata": {
      "needs_background": "light"
     },
     "output_type": "display_data"
    }
   ],
   "source": [
    "# checking for outliers\n",
    "\n",
    "# Creating a boxplot\n",
    "plt.boxplot(df[\"bedrooms\"])\n",
    "\n",
    "# Adding labels and title\n",
    "plt.xlabel('X-axis label')\n",
    "plt.ylabel('Y-axis label')\n",
    "plt.title('Boxplot')\n",
    "\n",
    "# Display the plot\n",
    "plt.show()\n"
   ]
  },
  {
   "cell_type": "markdown",
   "metadata": {},
   "source": [
    "from the above boxplot we can see that our very obvious outlier of 33 bedrooms is gone"
   ]
  },
  {
   "cell_type": "markdown",
   "metadata": {},
   "source": [
    "### **Exploratory Data Analysis**"
   ]
  },
  {
   "cell_type": "markdown",
   "metadata": {},
   "source": [
    "In this section, we will perform exploratory data analysis (EDA) to understand the data better and discover any patterns, trends using univariate,bivariate and multivariate analysis\n",
    "\n",
    "We will use descriptive statistics and visualizations to summarize the main characteristics of the data and examine the relationships between the features and the target variable.\n",
    "\n",
    "We will also check the distribution and correlation of the variables and identify any potential problems or opportunities for the analysis."
   ]
  },
  {
   "cell_type": "markdown",
   "metadata": {},
   "source": [
    "#### Univariate Analysis"
   ]
  },
  {
   "cell_type": "markdown",
   "metadata": {},
   "source": [
    "Univariate analysis involves the examination of single variables.We focus in the summary statistics of target variable-price to help us undersatand the distribution and skewness of house prices"
   ]
  },
  {
   "cell_type": "code",
   "execution_count": 20,
   "metadata": {},
   "outputs": [
    {
     "name": "stdout",
     "output_type": "stream",
     "text": [
      "Basic Statistics of Price:\n",
      " count    1.450700e+04\n",
      "mean     4.953697e+05\n",
      "std      2.466704e+05\n",
      "min      8.200000e+04\n",
      "25%      3.150000e+05\n",
      "50%      4.400000e+05\n",
      "75%      6.150000e+05\n",
      "max      1.650000e+06\n",
      "Name: price, dtype: float64\n"
     ]
    },
    {
     "data": {
      "image/png": "[encoded data removed]",
      "text/plain": [
       "<Figure size 720x432 with 1 Axes>"
      ]
     },
     "metadata": {
      "needs_background": "light"
     },
     "output_type": "display_data"
    }
   ],
   "source": [
    "# Display summary statistics of the 'price' variable\n",
    "price_stats = df['price'].describe()\n",
    "print(\"Basic Statistics of Price:\\n\", price_stats)\n",
    "\n",
    "# Visualizing the distribution of 'price' using a histogram\n",
    "plt.figure(figsize=(10, 6))\n",
    "sns.histplot(df['price'], bins=50, kde=True, color='green')\n",
    "plt.title('Distribution of Price')\n",
    "plt.xlabel('Price')\n",
    "plt.ylabel('Frequency')\n",
    "plt.show()"
   ]
  },
  {
   "cell_type": "markdown",
   "metadata": {},
   "source": [
    "The histogram shows that the distribution of house price is skewed to the left suggesting that while most houses are of lower prices, there are some properties with significantly higher prices that are pulling the tail"
   ]
  },
  {
   "cell_type": "markdown",
   "metadata": {},
   "source": [
    "#### Bivariate Analysis"
   ]
  },
  {
   "cell_type": "markdown",
   "metadata": {},
   "source": [
    "In this section, we will perform bivariate analysis to examine the relationship between the target variable (price) and the other features in the data. We will use scatter plots to show the direction and strength of the relationship between two numeric variables. This will help us understand how one variable affects or is affected by another variable and identify any patterns or trends that may exist."
   ]
  },
  {
   "cell_type": "code",
   "execution_count": 21,
   "metadata": {},
   "outputs": [
    {
     "data": {
      "text/plain": [
       "Index(['id', 'price', 'bedrooms', 'bathrooms', 'sqft_living', 'sqft_lot',\n",
       "       'floors', 'waterfront', 'view', 'condition', 'grade', 'sqft_above',\n",
       "       'sqft_basement', 'zipcode', 'lat', 'long', 'sqft_living15',\n",
       "       'sqft_lot15', 'house_age', 'renovation_age'],\n",
       "      dtype='object')"
      ]
     },
     "execution_count": 21,
     "metadata": {},
     "output_type": "execute_result"
    }
   ],
   "source": [
    "df.columns"
   ]
  },
  {
   "cell_type": "code",
   "execution_count": 22,
   "metadata": {},
   "outputs": [
    {
     "data": {
      "image/png": "[encoded data removed]",
      "text/plain": [
       "<Figure size 1080x1440 with 12 Axes>"
      ]
     },
     "metadata": {
      "needs_background": "light"
     },
     "output_type": "display_data"
    }
   ],
   "source": [
    "#relationships between our target variable and other independent variables in the dataset\n",
    "import math\n",
    "variables = ['bedrooms', 'bathrooms', 'sqft_living', 'sqft_lot','floors', 'grade', 'sqft_above',  'sqft_basement', 'sqft_living15','sqft_lot15', 'house_age', 'renovation_age']\n",
    "num_rows = math.ceil(len(variables) / 3)\n",
    "fig, axes = plt.subplots(num_rows, 3, figsize=(15, num_rows * 5))\n",
    "\n",
    "for i, var in enumerate(variables):\n",
    "    row = i // 3\n",
    "    col = i % 3\n",
    "    axes[row, col].scatter(df[var],df['price'])\n",
    "    axes[row, col].set_xlabel(var)\n",
    "    axes[row, col].set_ylabel('Price')\n",
    "    axes[row, col].set_title(f'Relationship between Price and {var}')\n",
    "\n",
    "plt.tight_layout()\n",
    "plt.show()"
   ]
  },
  {
   "cell_type": "code",
   "execution_count": 23,
   "metadata": {},
   "outputs": [
    {
     "data": {
      "image/png": "[encoded data removed]",
      "text/plain": [
       "<Figure size 720x576 with 2 Axes>"
      ]
     },
     "metadata": {
      "needs_background": "light"
     },
     "output_type": "display_data"
    }
   ],
   "source": [
    "\n",
    "# Replace non-numeric values with NaN\n",
    "df_numeric = df.apply(pd.to_numeric, errors='coerce')\n",
    "\n",
    "# Create a correlation matrix\n",
    "corr_matrix = df_numeric.corr()\n",
    "\n",
    "# Select only 'sale_value' as x-axis\n",
    "corr_sale_value = corr_matrix[['price']]\n",
    "\n",
    "# Plot the heatmap\n",
    "plt.figure(figsize=(10, 8))\n",
    "sns.heatmap(corr_sale_value, annot=True, cmap='coolwarm', fmt=\".2f\", cbar=True)\n",
    "plt.title('Correlation Heatmap with price as X-axis')\n",
    "plt.show()"
   ]
  },
  {
   "cell_type": "markdown",
   "metadata": {},
   "source": [
    "The scatter plots show that there is a positive relationship between some of the independent variables and the price of a house. This means that houses with higher values for these variables(sqft_living, bathrooms, sqft_above and sqft_living15) tend to be more expensive<br>\n",
    "something worth noting as well is that as the number of bedrooms increases so does the cost but only to a point."
   ]
  },
  {
   "cell_type": "markdown",
   "metadata": {},
   "source": [
    "#### Multivariate Analysis"
   ]
  },
  {
   "cell_type": "markdown",
   "metadata": {},
   "source": [
    "In this section, we will perform multivariate analysis to examine the relationship between various variables in the data. We will use heatmap to visualize the correlation matrix of the features and see how they are related to each other and to the price."
   ]
  },
  {
   "cell_type": "markdown",
   "metadata": {},
   "source": [
    "A heatmap can show us the strength and direction of the correlation between two variables using different colors and shades. This will help us identify the most important features for the prediction and avoid multicollinearity problems."
   ]
  },
  {
   "cell_type": "code",
   "execution_count": 24,
   "metadata": {},
   "outputs": [
    {
     "data": {
      "image/png": "[encoded data removed]",
      "text/plain": [
       "<Figure size 864x720 with 2 Axes>"
      ]
     },
     "metadata": {
      "needs_background": "light"
     },
     "output_type": "display_data"
    }
   ],
   "source": [
    "\n",
    "\n",
    "# Select the columns of interest\n",
    "columns_of_interest = ['price', 'bedrooms', 'bathrooms', 'sqft_living', 'sqft_lot','floors', 'grade', 'sqft_above','sqft_basement', 'sqft_living15',\n",
    "                       'sqft_lot15', 'house_age', 'renovation_age']\n",
    "\n",
    "# Calculate the correlation matrix\n",
    "correlation_matrix = df[columns_of_interest].corr()\n",
    "\n",
    "# Plot the heatmap\n",
    "plt.figure(figsize=(12, 10))\n",
    "sns.heatmap(correlation_matrix, annot=True, cmap='coolwarm', fmt=\".2f\")\n",
    "plt.title('Correlation Heatmap of Selected Features')\n",
    "plt.show()\n",
    "\n"
   ]
  },
  {
   "cell_type": "markdown",
   "metadata": {},
   "source": [
    "Positive correlations are typically represented by shades of red, and negative correlations by shades of blue.\n",
    "We note that bathrooms and sqft_living are highly positively correlated.\n",
    "from this we can see some correlated coumns eg sqft_lot and sqft_lot15 meaning that if your 15 neighbours have small lots the house in question probably will as well\n"
   ]
  },
  {
   "cell_type": "markdown",
   "metadata": {},
   "source": [
    "## **Regression Modelling** <br>\n",
    "### Simple Linear Regression"
   ]
  },
  {
   "cell_type": "markdown",
   "metadata": {},
   "source": [
    "when doing linear regresssion, the data to be used has to comply with LINE method;\n",
    "<li>L - Linearity(Relationship between x and y should be linear)\n",
    "<li>I - Independence(the observations and errors are independent of each other)\n",
    "<li>N - Normality(the residuals are normarly distribute)\n",
    "<li>E - Equal variance(the variance of the residuals across all level of idependent variables)"
   ]
  },
  {
   "cell_type": "markdown",
   "metadata": {},
   "source": [
    "For simple linear regression we will use the one column that has the strongest correlation to the price. this will also be our baseline model for the multiple linear regression "
   ]
  },
  {
   "cell_type": "code",
   "execution_count": 25,
   "metadata": {},
   "outputs": [
    {
     "data": {
      "text/plain": [
       "price            1.000000\n",
       "sqft_living      0.627915\n",
       "sqft_living15    0.553436\n",
       "sqft_above       0.523454\n",
       "bathrooms        0.451600\n",
       "lat              0.413830\n",
       "bedrooms         0.293639\n",
       "floors           0.271068\n",
       "sqft_basement    0.243189\n",
       "sqft_lot         0.093293\n",
       "sqft_lot15       0.084873\n",
       "condition        0.044942\n",
       "long             0.036832\n",
       "id               0.003885\n",
       "house_age       -0.000597\n",
       "Name: price, dtype: float64"
      ]
     },
     "execution_count": 25,
     "metadata": {},
     "output_type": "execute_result"
    }
   ],
   "source": [
    "# checking for correlation\n",
    "df.corr()['price'].sort_values(ascending=False).head(15)"
   ]
  },
  {
   "cell_type": "markdown",
   "metadata": {},
   "source": [
    "from the correlation sqft_living has the highest correlatio with price, we will therefore use sqft_living as the exogenous variable and price as our endogenous variable"
   ]
  },
  {
   "cell_type": "code",
   "execution_count": 26,
   "metadata": {},
   "outputs": [
    {
     "data": {
      "text/plain": [
       "<matplotlib.collections.PathCollection at 0x18ca529fac0>"
      ]
     },
     "execution_count": 26,
     "metadata": {},
     "output_type": "execute_result"
    },
    {
     "data": {
      "image/png": "[encoded data removed]",
      "text/plain": [
       "<Figure size 432x288 with 1 Axes>"
      ]
     },
     "metadata": {
      "needs_background": "light"
     },
     "output_type": "display_data"
    }
   ],
   "source": [
    "plt.scatter(df[\"sqft_living\"], df[\"price\"])"
   ]
  },
  {
   "cell_type": "markdown",
   "metadata": {},
   "source": [
    "from this we can see that there is a linearity between the two variables satisfying one of the 4 LINE specifications. we will check for the others in our model summary"
   ]
  },
  {
   "cell_type": "markdown",
   "metadata": {},
   "source": [
    "#### Building our model\n"
   ]
  },
  {
   "cell_type": "code",
   "execution_count": 27,
   "metadata": {},
   "outputs": [
    {
     "name": "stdout",
     "output_type": "stream",
     "text": [
      "                            OLS Regression Results                            \n",
      "==============================================================================\n",
      "Dep. Variable:                  price   R-squared:                       0.394\n",
      "Model:                            OLS   Adj. R-squared:                  0.394\n",
      "Method:                 Least Squares   F-statistic:                     9442.\n",
      "Date:                Fri, 03 May 2024   Prob (F-statistic):               0.00\n",
      "Time:                        12:01:41   Log-Likelihood:            -1.9706e+05\n",
      "No. Observations:               14507   AIC:                         3.941e+05\n",
      "Df Residuals:                   14505   BIC:                         3.941e+05\n",
      "Df Model:                           1                                         \n",
      "Covariance Type:            nonrobust                                         \n",
      "===============================================================================\n",
      "                  coef    std err          t      P>|t|      [0.025      0.975]\n",
      "-------------------------------------------------------------------------------\n",
      "const        8.597e+04   4504.707     19.086      0.000    7.71e+04    9.48e+04\n",
      "sqft_living   207.3962      2.134     97.168      0.000     203.212     211.580\n",
      "==============================================================================\n",
      "Omnibus:                     2601.152   Durbin-Watson:                   1.968\n",
      "Prob(Omnibus):                  0.000   Jarque-Bera (JB):             5799.942\n",
      "Skew:                           1.038   Prob(JB):                         0.00\n",
      "Kurtosis:                       5.299   Cond. No.                     5.96e+03\n",
      "==============================================================================\n",
      "\n",
      "Notes:\n",
      "[1] Standard Errors assume that the covariance matrix of the errors is correctly specified.\n",
      "[2] The condition number is large, 5.96e+03. This might indicate that there are\n",
      "strong multicollinearity or other numerical problems.\n"
     ]
    }
   ],
   "source": [
    "# importing necessary modules\n",
    "import statsmodels.api as sm\n",
    "\n",
    "# defining our independent and dependent variables\n",
    "X = df[[\"sqft_living\"]]\n",
    "y = df[\"price\"]\n",
    "\n",
    "# building our model\n",
    "model = sm.OLS(y, sm.add_constant(X))  # Using sm.OLS directly instead of a custom function\n",
    "\n",
    "# fitting the model to our data\n",
    "simple_results = model.fit()\n",
    "print(simple_results.summary())\n"
   ]
  },
  {
   "cell_type": "markdown",
   "metadata": {},
   "source": [
    "##### Interprating our models results"
   ]
  },
  {
   "cell_type": "markdown",
   "metadata": {},
   "source": [
    "<li> form the prob(fstatistic) we can tell that our model is statistically significant as the p_value is well below our alpha(0.05)\n",
    "<li> from our R-Squared(39.4%) it shows that our model explain about 39.4% of variance in price \n",
    "<li> our intercept has a p_value less than our alpha(5%) thus it is statistically significant, from this we can say that if the square square   footage of the living room in the home is zero the price will be about 85970 USD, which doesn't really make sense but it is useful for our modeL\n",
    "<li> our slope coefficient is  207.3962  showing that an increase of 1 square foot living is associated with an increase of about  207.3962 USD in price\n",
    "<li>we are 95% confident that the intercept lies between 77100 and 94800\n",
    "<li> we are also 95% confident that our slope is within the range 203.212 and 211.580\n"
   ]
  },
  {
   "cell_type": "markdown",
   "metadata": {},
   "source": [
    "<li>Durbin-Watson: A test for autocorrelation in the residuals. Values between 0 and 2 suggest positive autocorrelation, between 2 and 4 suggest negative autocorrelation, and around 2 suggest no autocorrelation.<br>\n",
    "this shows no autocorrelation in our errors satisfying the second condition of the LINE requirments<br>\n",
    "\n",
    "<li> Omnibus test: shows a normality of residuals. A low p-value (< 0.05) indicates that the residuals are not normally distributed.\n",
    "<li>Jarque-Bera (JB): Another test for normality of residuals. A low p-value (< 0.05) indicates that the residuals are not normally distributed.<br>\n",
    "\n",
    "from the  Omnibus test and Jarque-Bera (JB) we can see that our residuals are not normally distributed which shows weakness in our model. Considering other independent variables may improve this \n",
    " \n"
   ]
  },
  {
   "cell_type": "code",
   "execution_count": 34,
   "metadata": {},
   "outputs": [
    {
     "data": {
      "image/png": "[encoded data removed]",
      "text/plain": [
       "<Figure size 576x432 with 5 Axes>"
      ]
     },
     "metadata": {},
     "output_type": "display_data"
    }
   ],
   "source": [
    "def plotting_regression_plots(your_model, independent_variable):\n",
    "    \"\"\"\n",
    "    Plots all necessary regression plots to evaluate a model\n",
    "    \"\"\"\n",
    "    fig, ax = plt.subplots(figsize=(8, 6))  # Create a figure and axis\n",
    "    sm.graphics.plot_regress_exog(your_model, independent_variable, fig=fig)  # Plot regression plots on the axis\n",
    "    ax.set_xlabel(independent_variable, color='orange')  # Set x-axis label color to orange\n",
    "    ax.tick_params(axis='x', colors='orange')  # Set x-axis tick color to orange\n",
    "plotting_regression_plots(simple_results,\"sqft_living\")"
   ]
  },
  {
   "cell_type": "markdown",
   "metadata": {},
   "source": [
    "we are plotting our residuals to understand where our model is perfoming best and where it is performing poorly"
   ]
  },
  {
   "cell_type": "code",
   "execution_count": 35,
   "metadata": {},
   "outputs": [
    {
     "data": {
      "image/png": "[encoded data removed]",
      "text/plain": [
       "<Figure size 432x288 with 1 Axes>"
      ]
     },
     "metadata": {
      "needs_background": "light"
     },
     "output_type": "display_data"
    }
   ],
   "source": [
    "plt.hist(simple_results.resid, bins = \"auto\")\n",
    "plt.show()"
   ]
  },
  {
   "cell_type": "markdown",
   "metadata": {},
   "source": [
    "our graphs give us the same information as our summary did <br>\n",
    "from this we can see that our residuals are close to normally distributed hence satisfying the NORMALITY assumption of regression\n",
    "We will now do multiple linear regression to solve our low R-squared"
   ]
  },
  {
   "cell_type": "markdown",
   "metadata": {},
   "source": [
    "### Multiple Linear Regression"
   ]
  },
  {
   "cell_type": "code",
   "execution_count": 36,
   "metadata": {},
   "outputs": [
    {
     "data": {
      "text/html": [
       "<div>\n",
       "<style scoped>\n",
       "    .dataframe tbody tr th:only-of-type {\n",
       "        vertical-align: middle;\n",
       "    }\n",
       "\n",
       "    .dataframe tbody tr th {\n",
       "        vertical-align: top;\n",
       "    }\n",
       "\n",
       "    .dataframe thead th {\n",
       "        text-align: right;\n",
       "    }\n",
       "</style>\n",
       "<table border=\"1\" class=\"dataframe\">\n",
       "  <thead>\n",
       "    <tr style=\"text-align: right;\">\n",
       "      <th></th>\n",
       "      <th>id</th>\n",
       "      <th>price</th>\n",
       "      <th>bedrooms</th>\n",
       "      <th>bathrooms</th>\n",
       "      <th>sqft_living</th>\n",
       "      <th>sqft_lot</th>\n",
       "      <th>floors</th>\n",
       "      <th>waterfront</th>\n",
       "      <th>view</th>\n",
       "      <th>condition</th>\n",
       "      <th>grade</th>\n",
       "      <th>sqft_above</th>\n",
       "      <th>sqft_basement</th>\n",
       "      <th>zipcode</th>\n",
       "      <th>lat</th>\n",
       "      <th>long</th>\n",
       "      <th>sqft_living15</th>\n",
       "      <th>sqft_lot15</th>\n",
       "      <th>house_age</th>\n",
       "      <th>renovation_age</th>\n",
       "    </tr>\n",
       "  </thead>\n",
       "  <tbody>\n",
       "    <tr>\n",
       "      <th>1</th>\n",
       "      <td>6414100192</td>\n",
       "      <td>538000.0</td>\n",
       "      <td>3</td>\n",
       "      <td>2.25</td>\n",
       "      <td>2570</td>\n",
       "      <td>7242</td>\n",
       "      <td>2.0</td>\n",
       "      <td>NO</td>\n",
       "      <td>NONE</td>\n",
       "      <td>3</td>\n",
       "      <td>7 Average</td>\n",
       "      <td>2170</td>\n",
       "      <td>400</td>\n",
       "      <td>98125</td>\n",
       "      <td>47.7210</td>\n",
       "      <td>-122.319</td>\n",
       "      <td>1690</td>\n",
       "      <td>7639</td>\n",
       "      <td>539.203285</td>\n",
       "      <td>539.203285</td>\n",
       "    </tr>\n",
       "    <tr>\n",
       "      <th>3</th>\n",
       "      <td>2487200875</td>\n",
       "      <td>604000.0</td>\n",
       "      <td>4</td>\n",
       "      <td>3.00</td>\n",
       "      <td>1960</td>\n",
       "      <td>5000</td>\n",
       "      <td>1.0</td>\n",
       "      <td>NO</td>\n",
       "      <td>NONE</td>\n",
       "      <td>5</td>\n",
       "      <td>7 Average</td>\n",
       "      <td>1050</td>\n",
       "      <td>910</td>\n",
       "      <td>98136</td>\n",
       "      <td>47.5208</td>\n",
       "      <td>-122.393</td>\n",
       "      <td>1360</td>\n",
       "      <td>5000</td>\n",
       "      <td>539.203285</td>\n",
       "      <td>539.236140</td>\n",
       "    </tr>\n",
       "    <tr>\n",
       "      <th>4</th>\n",
       "      <td>1954400510</td>\n",
       "      <td>510000.0</td>\n",
       "      <td>3</td>\n",
       "      <td>2.00</td>\n",
       "      <td>1680</td>\n",
       "      <td>8080</td>\n",
       "      <td>1.0</td>\n",
       "      <td>NO</td>\n",
       "      <td>NONE</td>\n",
       "      <td>3</td>\n",
       "      <td>8 Good</td>\n",
       "      <td>1680</td>\n",
       "      <td>0</td>\n",
       "      <td>98074</td>\n",
       "      <td>47.6168</td>\n",
       "      <td>-122.045</td>\n",
       "      <td>1800</td>\n",
       "      <td>7503</td>\n",
       "      <td>541.535934</td>\n",
       "      <td>541.568789</td>\n",
       "    </tr>\n",
       "    <tr>\n",
       "      <th>6</th>\n",
       "      <td>1321400060</td>\n",
       "      <td>257500.0</td>\n",
       "      <td>3</td>\n",
       "      <td>2.25</td>\n",
       "      <td>1715</td>\n",
       "      <td>6819</td>\n",
       "      <td>2.0</td>\n",
       "      <td>NO</td>\n",
       "      <td>NONE</td>\n",
       "      <td>3</td>\n",
       "      <td>7 Average</td>\n",
       "      <td>1715</td>\n",
       "      <td>0</td>\n",
       "      <td>98003</td>\n",
       "      <td>47.3097</td>\n",
       "      <td>-122.327</td>\n",
       "      <td>2238</td>\n",
       "      <td>6819</td>\n",
       "      <td>533.782341</td>\n",
       "      <td>533.815195</td>\n",
       "    </tr>\n",
       "    <tr>\n",
       "      <th>8</th>\n",
       "      <td>2414600126</td>\n",
       "      <td>229500.0</td>\n",
       "      <td>3</td>\n",
       "      <td>1.00</td>\n",
       "      <td>1780</td>\n",
       "      <td>7470</td>\n",
       "      <td>1.0</td>\n",
       "      <td>NO</td>\n",
       "      <td>NONE</td>\n",
       "      <td>3</td>\n",
       "      <td>7 Average</td>\n",
       "      <td>1050</td>\n",
       "      <td>730</td>\n",
       "      <td>98146</td>\n",
       "      <td>47.5123</td>\n",
       "      <td>-122.337</td>\n",
       "      <td>1780</td>\n",
       "      <td>8113</td>\n",
       "      <td>543.375770</td>\n",
       "      <td>543.408624</td>\n",
       "    </tr>\n",
       "  </tbody>\n",
       "</table>\n",
       "</div>"
      ],
      "text/plain": [
       "           id     price  bedrooms  bathrooms  sqft_living  sqft_lot  floors  \\\n",
       "1  6414100192  538000.0         3       2.25         2570      7242     2.0   \n",
       "3  2487200875  604000.0         4       3.00         1960      5000     1.0   \n",
       "4  1954400510  510000.0         3       2.00         1680      8080     1.0   \n",
       "6  1321400060  257500.0         3       2.25         1715      6819     2.0   \n",
       "8  2414600126  229500.0         3       1.00         1780      7470     1.0   \n",
       "\n",
       "  waterfront  view  condition      grade  sqft_above  sqft_basement  zipcode  \\\n",
       "1         NO  NONE          3  7 Average        2170            400    98125   \n",
       "3         NO  NONE          5  7 Average        1050            910    98136   \n",
       "4         NO  NONE          3     8 Good        1680              0    98074   \n",
       "6         NO  NONE          3  7 Average        1715              0    98003   \n",
       "8         NO  NONE          3  7 Average        1050            730    98146   \n",
       "\n",
       "       lat     long  sqft_living15  sqft_lot15   house_age  renovation_age  \n",
       "1  47.7210 -122.319           1690        7639  539.203285      539.203285  \n",
       "3  47.5208 -122.393           1360        5000  539.203285      539.236140  \n",
       "4  47.6168 -122.045           1800        7503  541.535934      541.568789  \n",
       "6  47.3097 -122.327           2238        6819  533.782341      533.815195  \n",
       "8  47.5123 -122.337           1780        8113  543.375770      543.408624  "
      ]
     },
     "execution_count": 36,
     "metadata": {},
     "output_type": "execute_result"
    }
   ],
   "source": [
    "df.head()"
   ]
  },
  {
   "cell_type": "markdown",
   "metadata": {},
   "source": [
    "\n",
    "\n",
    "For Multiple Linear Regression, we are going to use more than one predictor variable to predict price for our case\n",
    "\n",
    "Our baseline for this model will be the linear Regression that we just did above\n",
    " "
   ]
  },
  {
   "cell_type": "code",
   "execution_count": 37,
   "metadata": {},
   "outputs": [
    {
     "data": {
      "text/plain": [
       "Index(['id', 'price', 'bedrooms', 'bathrooms', 'sqft_living', 'sqft_lot',\n",
       "       'floors', 'waterfront', 'view', 'condition', 'grade', 'sqft_above',\n",
       "       'sqft_basement', 'zipcode', 'lat', 'long', 'sqft_living15',\n",
       "       'sqft_lot15', 'house_age', 'renovation_age'],\n",
       "      dtype='object')"
      ]
     },
     "execution_count": 37,
     "metadata": {},
     "output_type": "execute_result"
    }
   ],
   "source": [
    "df.columns"
   ]
  },
  {
   "cell_type": "code",
   "execution_count": 38,
   "metadata": {},
   "outputs": [
    {
     "name": "stdout",
     "output_type": "stream",
     "text": [
      "<class 'pandas.core.frame.DataFrame'>\n",
      "Int64Index: 14507 entries, 1 to 21596\n",
      "Data columns (total 20 columns):\n",
      " #   Column          Non-Null Count  Dtype  \n",
      "---  ------          --------------  -----  \n",
      " 0   id              14507 non-null  int64  \n",
      " 1   price           14507 non-null  float64\n",
      " 2   bedrooms        14507 non-null  int64  \n",
      " 3   bathrooms       14507 non-null  float64\n",
      " 4   sqft_living     14507 non-null  int64  \n",
      " 5   sqft_lot        14507 non-null  int64  \n",
      " 6   floors          14507 non-null  float64\n",
      " 7   waterfront      14507 non-null  object \n",
      " 8   view            14507 non-null  object \n",
      " 9   condition       14507 non-null  int64  \n",
      " 10  grade           14507 non-null  object \n",
      " 11  sqft_above      14507 non-null  int64  \n",
      " 12  sqft_basement   14507 non-null  int64  \n",
      " 13  zipcode         14507 non-null  int64  \n",
      " 14  lat             14507 non-null  float64\n",
      " 15  long            14507 non-null  float64\n",
      " 16  sqft_living15   14507 non-null  int64  \n",
      " 17  sqft_lot15      14507 non-null  int64  \n",
      " 18  house_age       14507 non-null  float64\n",
      " 19  renovation_age  14507 non-null  float64\n",
      "dtypes: float64(7), int64(10), object(3)\n",
      "memory usage: 2.3+ MB\n"
     ]
    }
   ],
   "source": [
    "df.info()"
   ]
  },
  {
   "cell_type": "markdown",
   "metadata": {},
   "source": [
    "let's edit our data abit to make it better for modellinng"
   ]
  },
  {
   "cell_type": "code",
   "execution_count": 39,
   "metadata": {},
   "outputs": [
    {
     "data": {
      "text/plain": [
       "array(['NO', 'YES'], dtype=object)"
      ]
     },
     "execution_count": 39,
     "metadata": {},
     "output_type": "execute_result"
    }
   ],
   "source": [
    "df['waterfront'].unique()"
   ]
  },
  {
   "cell_type": "code",
   "execution_count": 40,
   "metadata": {},
   "outputs": [
    {
     "data": {
      "text/plain": [
       "array(['NONE', 'GOOD', 'AVERAGE', 'EXCELLENT', 'FAIR'], dtype=object)"
      ]
     },
     "execution_count": 40,
     "metadata": {},
     "output_type": "execute_result"
    }
   ],
   "source": [
    "df['view'].unique()"
   ]
  },
  {
   "cell_type": "code",
   "execution_count": 41,
   "metadata": {},
   "outputs": [
    {
     "data": {
      "text/plain": [
       "array(['7 Average', '8 Good', '9 Better', '6 Low Average', '10 Very Good',\n",
       "       '5 Fair', '11 Excellent', '4 Low', '3 Poor', '12 Luxury'],\n",
       "      dtype=object)"
      ]
     },
     "execution_count": 41,
     "metadata": {},
     "output_type": "execute_result"
    }
   ],
   "source": [
    "df['grade'].unique()"
   ]
  },
  {
   "cell_type": "code",
   "execution_count": 42,
   "metadata": {},
   "outputs": [],
   "source": [
    "# Change waterfront to numeric\n",
    "df['waterfront'] = df['waterfront'].apply(lambda x: 1 if x=='YES' else 0)\n",
    "# Change view to numeric\n",
    "df['view'] = df['view'].apply(lambda x: 0 if x=='NONE' else (1 if x=='FAIR' else (2 if x=='AVERAGE' else (3 if x=='GOOD' else 4))))\n",
    " # Convert grade to int\n",
    "df['grade'] = df['grade'].apply(lambda x: x[:2] if x[0]=='1' else x[:1]).astype('int64')"
   ]
  },
  {
   "cell_type": "code",
   "execution_count": 43,
   "metadata": {},
   "outputs": [
    {
     "name": "stdout",
     "output_type": "stream",
     "text": [
      "<class 'pandas.core.frame.DataFrame'>\n",
      "Int64Index: 14507 entries, 1 to 21596\n",
      "Data columns (total 20 columns):\n",
      " #   Column          Non-Null Count  Dtype  \n",
      "---  ------          --------------  -----  \n",
      " 0   id              14507 non-null  int64  \n",
      " 1   price           14507 non-null  float64\n",
      " 2   bedrooms        14507 non-null  int64  \n",
      " 3   bathrooms       14507 non-null  float64\n",
      " 4   sqft_living     14507 non-null  int64  \n",
      " 5   sqft_lot        14507 non-null  int64  \n",
      " 6   floors          14507 non-null  float64\n",
      " 7   waterfront      14507 non-null  int64  \n",
      " 8   view            14507 non-null  int64  \n",
      " 9   condition       14507 non-null  int64  \n",
      " 10  grade           14507 non-null  int64  \n",
      " 11  sqft_above      14507 non-null  int64  \n",
      " 12  sqft_basement   14507 non-null  int64  \n",
      " 13  zipcode         14507 non-null  int64  \n",
      " 14  lat             14507 non-null  float64\n",
      " 15  long            14507 non-null  float64\n",
      " 16  sqft_living15   14507 non-null  int64  \n",
      " 17  sqft_lot15      14507 non-null  int64  \n",
      " 18  house_age       14507 non-null  float64\n",
      " 19  renovation_age  14507 non-null  float64\n",
      "dtypes: float64(7), int64(13)\n",
      "memory usage: 2.3 MB\n"
     ]
    }
   ],
   "source": [
    "df.info()"
   ]
  },
  {
   "cell_type": "markdown",
   "metadata": {},
   "source": [
    "our data is now ready for modelling. let build our model"
   ]
  },
  {
   "cell_type": "code",
   "execution_count": 44,
   "metadata": {},
   "outputs": [
    {
     "data": {
      "text/html": [
       "<table class=\"simpletable\">\n",
       "<caption>OLS Regression Results</caption>\n",
       "<tr>\n",
       "  <th>Dep. Variable:</th>          <td>price</td>      <th>  R-squared:         </th>  <td>   0.681</td>  \n",
       "</tr>\n",
       "<tr>\n",
       "  <th>Model:</th>                   <td>OLS</td>       <th>  Adj. R-squared:    </th>  <td>   0.681</td>  \n",
       "</tr>\n",
       "<tr>\n",
       "  <th>Method:</th>             <td>Least Squares</td>  <th>  F-statistic:       </th>  <td>   1031.</td>  \n",
       "</tr>\n",
       "<tr>\n",
       "  <th>Date:</th>             <td>Fri, 03 May 2024</td> <th>  Prob (F-statistic):</th>   <td>  0.00</td>   \n",
       "</tr>\n",
       "<tr>\n",
       "  <th>Time:</th>                 <td>12:14:39</td>     <th>  Log-Likelihood:    </th> <td>-1.9241e+05</td>\n",
       "</tr>\n",
       "<tr>\n",
       "  <th>No. Observations:</th>      <td> 14507</td>      <th>  AIC:               </th>  <td>3.849e+05</td> \n",
       "</tr>\n",
       "<tr>\n",
       "  <th>Df Residuals:</th>          <td> 14476</td>      <th>  BIC:               </th>  <td>3.851e+05</td> \n",
       "</tr>\n",
       "<tr>\n",
       "  <th>Df Model:</th>              <td>    30</td>      <th>                     </th>      <td> </td>     \n",
       "</tr>\n",
       "<tr>\n",
       "  <th>Covariance Type:</th>      <td>nonrobust</td>    <th>                     </th>      <td> </td>     \n",
       "</tr>\n",
       "</table>\n",
       "<table class=\"simpletable\">\n",
       "<tr>\n",
       "         <td></td>           <th>coef</th>     <th>std err</th>      <th>t</th>      <th>P>|t|</th>  <th>[0.025</th>    <th>0.975]</th>  \n",
       "</tr>\n",
       "<tr>\n",
       "  <th>const</th>          <td>-4.817e+07</td> <td> 1.36e+06</td> <td>  -35.478</td> <td> 0.000</td> <td>-5.08e+07</td> <td>-4.55e+07</td>\n",
       "</tr>\n",
       "<tr>\n",
       "  <th>bedrooms</th>       <td>-7179.9990</td> <td> 1793.035</td> <td>   -4.004</td> <td> 0.000</td> <td>-1.07e+04</td> <td>-3665.420</td>\n",
       "</tr>\n",
       "<tr>\n",
       "  <th>bathrooms</th>      <td> 4366.2317</td> <td> 2776.133</td> <td>    1.573</td> <td> 0.116</td> <td>-1075.343</td> <td> 9807.807</td>\n",
       "</tr>\n",
       "<tr>\n",
       "  <th>sqft_living</th>    <td>  112.3002</td> <td>   16.108</td> <td>    6.972</td> <td> 0.000</td> <td>   80.726</td> <td>  143.875</td>\n",
       "</tr>\n",
       "<tr>\n",
       "  <th>sqft_lot</th>       <td>    0.3549</td> <td>    0.169</td> <td>    2.095</td> <td> 0.036</td> <td>    0.023</td> <td>    0.687</td>\n",
       "</tr>\n",
       "<tr>\n",
       "  <th>floors</th>         <td> 9110.2916</td> <td> 3130.283</td> <td>    2.910</td> <td> 0.004</td> <td> 2974.536</td> <td> 1.52e+04</td>\n",
       "</tr>\n",
       "<tr>\n",
       "  <th>sqft_above</th>     <td>  -13.9773</td> <td>   16.051</td> <td>   -0.871</td> <td> 0.384</td> <td>  -45.438</td> <td>   17.484</td>\n",
       "</tr>\n",
       "<tr>\n",
       "  <th>sqft_basement</th>  <td>   -4.5594</td> <td>   15.902</td> <td>   -0.287</td> <td> 0.774</td> <td>  -35.729</td> <td>   26.611</td>\n",
       "</tr>\n",
       "<tr>\n",
       "  <th>lat</th>            <td> 6.211e+05</td> <td> 8598.919</td> <td>   72.225</td> <td> 0.000</td> <td> 6.04e+05</td> <td> 6.38e+05</td>\n",
       "</tr>\n",
       "<tr>\n",
       "  <th>long</th>           <td> -1.45e+05</td> <td> 1.08e+04</td> <td>  -13.449</td> <td> 0.000</td> <td>-1.66e+05</td> <td>-1.24e+05</td>\n",
       "</tr>\n",
       "<tr>\n",
       "  <th>sqft_living15</th>  <td>   49.3505</td> <td>    3.287</td> <td>   15.015</td> <td> 0.000</td> <td>   42.908</td> <td>   55.793</td>\n",
       "</tr>\n",
       "<tr>\n",
       "  <th>sqft_lot15</th>     <td>   -1.6348</td> <td>    0.220</td> <td>   -7.437</td> <td> 0.000</td> <td>   -2.066</td> <td>   -1.204</td>\n",
       "</tr>\n",
       "<tr>\n",
       "  <th>house_age</th>      <td> 3.369e+06</td> <td> 1.85e+05</td> <td>   18.240</td> <td> 0.000</td> <td> 3.01e+06</td> <td> 3.73e+06</td>\n",
       "</tr>\n",
       "<tr>\n",
       "  <th>renovation_age</th> <td>-3.367e+06</td> <td> 1.85e+05</td> <td>  -18.227</td> <td> 0.000</td> <td>-3.73e+06</td> <td>   -3e+06</td>\n",
       "</tr>\n",
       "<tr>\n",
       "  <th>condition_3</th>    <td>-1355.6917</td> <td> 1.36e+04</td> <td>   -0.099</td> <td> 0.921</td> <td>-2.81e+04</td> <td> 2.54e+04</td>\n",
       "</tr>\n",
       "<tr>\n",
       "  <th>condition_4</th>    <td> 5.715e+04</td> <td> 1.37e+04</td> <td>    4.169</td> <td> 0.000</td> <td> 3.03e+04</td> <td>  8.4e+04</td>\n",
       "</tr>\n",
       "<tr>\n",
       "  <th>condition_5</th>    <td> 1.134e+05</td> <td> 1.41e+04</td> <td>    8.014</td> <td> 0.000</td> <td> 8.57e+04</td> <td> 1.41e+05</td>\n",
       "</tr>\n",
       "<tr>\n",
       "  <th>view_1</th>         <td> 1.014e+05</td> <td> 9807.652</td> <td>   10.341</td> <td> 0.000</td> <td> 8.22e+04</td> <td> 1.21e+05</td>\n",
       "</tr>\n",
       "<tr>\n",
       "  <th>view_2</th>         <td> 8.507e+04</td> <td> 6188.307</td> <td>   13.746</td> <td> 0.000</td> <td> 7.29e+04</td> <td> 9.72e+04</td>\n",
       "</tr>\n",
       "<tr>\n",
       "  <th>view_3</th>         <td> 1.235e+05</td> <td> 9172.008</td> <td>   13.469</td> <td> 0.000</td> <td> 1.06e+05</td> <td> 1.42e+05</td>\n",
       "</tr>\n",
       "<tr>\n",
       "  <th>view_4</th>         <td> 1.859e+05</td> <td> 1.45e+04</td> <td>   12.807</td> <td> 0.000</td> <td> 1.57e+05</td> <td> 2.14e+05</td>\n",
       "</tr>\n",
       "<tr>\n",
       "  <th>grade_4</th>        <td> -1.88e+05</td> <td> 1.44e+05</td> <td>   -1.304</td> <td> 0.192</td> <td> -4.7e+05</td> <td> 9.45e+04</td>\n",
       "</tr>\n",
       "<tr>\n",
       "  <th>grade_5</th>        <td>-1.936e+05</td> <td>  1.4e+05</td> <td>   -1.383</td> <td> 0.167</td> <td>-4.68e+05</td> <td> 8.09e+04</td>\n",
       "</tr>\n",
       "<tr>\n",
       "  <th>grade_6</th>        <td> -1.88e+05</td> <td>  1.4e+05</td> <td>   -1.347</td> <td> 0.178</td> <td>-4.62e+05</td> <td> 8.56e+04</td>\n",
       "</tr>\n",
       "<tr>\n",
       "  <th>grade_7</th>        <td>-1.565e+05</td> <td>  1.4e+05</td> <td>   -1.121</td> <td> 0.262</td> <td> -4.3e+05</td> <td> 1.17e+05</td>\n",
       "</tr>\n",
       "<tr>\n",
       "  <th>grade_8</th>        <td>-9.148e+04</td> <td>  1.4e+05</td> <td>   -0.655</td> <td> 0.512</td> <td>-3.65e+05</td> <td> 1.82e+05</td>\n",
       "</tr>\n",
       "<tr>\n",
       "  <th>grade_9</th>        <td> 2.877e+04</td> <td>  1.4e+05</td> <td>    0.206</td> <td> 0.837</td> <td>-2.45e+05</td> <td> 3.03e+05</td>\n",
       "</tr>\n",
       "<tr>\n",
       "  <th>grade_10</th>       <td> 1.281e+05</td> <td>  1.4e+05</td> <td>    0.916</td> <td> 0.360</td> <td>-1.46e+05</td> <td> 4.02e+05</td>\n",
       "</tr>\n",
       "<tr>\n",
       "  <th>grade_11</th>       <td> 2.309e+05</td> <td>  1.4e+05</td> <td>    1.643</td> <td> 0.100</td> <td>-4.45e+04</td> <td> 5.06e+05</td>\n",
       "</tr>\n",
       "<tr>\n",
       "  <th>grade_12</th>       <td> 5.247e+05</td> <td> 1.98e+05</td> <td>    2.655</td> <td> 0.008</td> <td> 1.37e+05</td> <td> 9.12e+05</td>\n",
       "</tr>\n",
       "<tr>\n",
       "  <th>waterfront_1</th>   <td> 2.149e+05</td> <td> 2.15e+04</td> <td>   10.004</td> <td> 0.000</td> <td> 1.73e+05</td> <td> 2.57e+05</td>\n",
       "</tr>\n",
       "</table>\n",
       "<table class=\"simpletable\">\n",
       "<tr>\n",
       "  <th>Omnibus:</th>       <td>3373.238</td> <th>  Durbin-Watson:     </th> <td>   1.970</td> \n",
       "</tr>\n",
       "<tr>\n",
       "  <th>Prob(Omnibus):</th>  <td> 0.000</td>  <th>  Jarque-Bera (JB):  </th> <td>12677.510</td>\n",
       "</tr>\n",
       "<tr>\n",
       "  <th>Skew:</th>           <td> 1.126</td>  <th>  Prob(JB):          </th> <td>    0.00</td> \n",
       "</tr>\n",
       "<tr>\n",
       "  <th>Kurtosis:</th>       <td> 6.988</td>  <th>  Cond. No.          </th> <td>2.32e+07</td> \n",
       "</tr>\n",
       "</table><br/><br/>Notes:<br/>[1] Standard Errors assume that the covariance matrix of the errors is correctly specified.<br/>[2] The condition number is large, 2.32e+07. This might indicate that there are<br/>strong multicollinearity or other numerical problems."
      ],
      "text/plain": [
       "<class 'statsmodels.iolib.summary.Summary'>\n",
       "\"\"\"\n",
       "                            OLS Regression Results                            \n",
       "==============================================================================\n",
       "Dep. Variable:                  price   R-squared:                       0.681\n",
       "Model:                            OLS   Adj. R-squared:                  0.681\n",
       "Method:                 Least Squares   F-statistic:                     1031.\n",
       "Date:                Fri, 03 May 2024   Prob (F-statistic):               0.00\n",
       "Time:                        12:14:39   Log-Likelihood:            -1.9241e+05\n",
       "No. Observations:               14507   AIC:                         3.849e+05\n",
       "Df Residuals:                   14476   BIC:                         3.851e+05\n",
       "Df Model:                          30                                         \n",
       "Covariance Type:            nonrobust                                         \n",
       "==================================================================================\n",
       "                     coef    std err          t      P>|t|      [0.025      0.975]\n",
       "----------------------------------------------------------------------------------\n",
       "const          -4.817e+07   1.36e+06    -35.478      0.000   -5.08e+07   -4.55e+07\n",
       "bedrooms       -7179.9990   1793.035     -4.004      0.000   -1.07e+04   -3665.420\n",
       "bathrooms       4366.2317   2776.133      1.573      0.116   -1075.343    9807.807\n",
       "sqft_living      112.3002     16.108      6.972      0.000      80.726     143.875\n",
       "sqft_lot           0.3549      0.169      2.095      0.036       0.023       0.687\n",
       "floors          9110.2916   3130.283      2.910      0.004    2974.536    1.52e+04\n",
       "sqft_above       -13.9773     16.051     -0.871      0.384     -45.438      17.484\n",
       "sqft_basement     -4.5594     15.902     -0.287      0.774     -35.729      26.611\n",
       "lat             6.211e+05   8598.919     72.225      0.000    6.04e+05    6.38e+05\n",
       "long            -1.45e+05   1.08e+04    -13.449      0.000   -1.66e+05   -1.24e+05\n",
       "sqft_living15     49.3505      3.287     15.015      0.000      42.908      55.793\n",
       "sqft_lot15        -1.6348      0.220     -7.437      0.000      -2.066      -1.204\n",
       "house_age       3.369e+06   1.85e+05     18.240      0.000    3.01e+06    3.73e+06\n",
       "renovation_age -3.367e+06   1.85e+05    -18.227      0.000   -3.73e+06      -3e+06\n",
       "condition_3    -1355.6917   1.36e+04     -0.099      0.921   -2.81e+04    2.54e+04\n",
       "condition_4     5.715e+04   1.37e+04      4.169      0.000    3.03e+04     8.4e+04\n",
       "condition_5     1.134e+05   1.41e+04      8.014      0.000    8.57e+04    1.41e+05\n",
       "view_1          1.014e+05   9807.652     10.341      0.000    8.22e+04    1.21e+05\n",
       "view_2          8.507e+04   6188.307     13.746      0.000    7.29e+04    9.72e+04\n",
       "view_3          1.235e+05   9172.008     13.469      0.000    1.06e+05    1.42e+05\n",
       "view_4          1.859e+05   1.45e+04     12.807      0.000    1.57e+05    2.14e+05\n",
       "grade_4         -1.88e+05   1.44e+05     -1.304      0.192    -4.7e+05    9.45e+04\n",
       "grade_5        -1.936e+05    1.4e+05     -1.383      0.167   -4.68e+05    8.09e+04\n",
       "grade_6         -1.88e+05    1.4e+05     -1.347      0.178   -4.62e+05    8.56e+04\n",
       "grade_7        -1.565e+05    1.4e+05     -1.121      0.262    -4.3e+05    1.17e+05\n",
       "grade_8        -9.148e+04    1.4e+05     -0.655      0.512   -3.65e+05    1.82e+05\n",
       "grade_9         2.877e+04    1.4e+05      0.206      0.837   -2.45e+05    3.03e+05\n",
       "grade_10        1.281e+05    1.4e+05      0.916      0.360   -1.46e+05    4.02e+05\n",
       "grade_11        2.309e+05    1.4e+05      1.643      0.100   -4.45e+04    5.06e+05\n",
       "grade_12        5.247e+05   1.98e+05      2.655      0.008    1.37e+05    9.12e+05\n",
       "waterfront_1    2.149e+05   2.15e+04     10.004      0.000    1.73e+05    2.57e+05\n",
       "==============================================================================\n",
       "Omnibus:                     3373.238   Durbin-Watson:                   1.970\n",
       "Prob(Omnibus):                  0.000   Jarque-Bera (JB):            12677.510\n",
       "Skew:                           1.126   Prob(JB):                         0.00\n",
       "Kurtosis:                       6.988   Cond. No.                     2.32e+07\n",
       "==============================================================================\n",
       "\n",
       "Notes:\n",
       "[1] Standard Errors assume that the covariance matrix of the errors is correctly specified.\n",
       "[2] The condition number is large, 2.32e+07. This might indicate that there are\n",
       "strong multicollinearity or other numerical problems.\n",
       "\"\"\""
      ]
     },
     "execution_count": 44,
     "metadata": {},
     "output_type": "execute_result"
    }
   ],
   "source": [
    "# defind our X and y\n",
    "X = df.drop(['price', 'zipcode', 'id'], axis =1)\n",
    "X = pd.get_dummies(X, columns = ['condition', 'view', 'grade', 'waterfront'], drop_first =True)\n",
    "y = df['price']\n",
    "\n",
    "#build the model and fitting it\n",
    "ML_model = sm.OLS(y, sm.add_constant(X)).fit()\n",
    "\n",
    "#print out summary\n",
    "ML_model.summary()"
   ]
  },
  {
   "cell_type": "markdown",
   "metadata": {},
   "source": [
    "#### Model 2 Interpretations"
   ]
  },
  {
   "cell_type": "markdown",
   "metadata": {},
   "source": [
    "<li> Our adj R-squared for this model is 68%. This means that our model explains 68% of variance in Price\n",
    "<li> Our p-values are below alpha of 5% suggesting that our model is statistically significant"
   ]
  },
  {
   "cell_type": "markdown",
   "metadata": {},
   "source": [
    "Evaluating The Model"
   ]
  },
  {
   "cell_type": "markdown",
   "metadata": {},
   "source": [
    "Adjusted r_squared is not enough to evaluate our model and therefore we need to see MSE and RMSE as well"
   ]
  },
  {
   "cell_type": "code",
   "execution_count": 45,
   "metadata": {},
   "outputs": [],
   "source": [
    "X = np.hstack((X, np.zeros((X.shape[0], 1))))  # Adding a column of zeros as the additional feature\n",
    "\n",
    "y_pred = ML_model.predict(X)"
   ]
  },
  {
   "cell_type": "code",
   "execution_count": 46,
   "metadata": {},
   "outputs": [
    {
     "name": "stdout",
     "output_type": "stream",
     "text": [
      "1.752011963028223e+18\n",
      "1323635887.6323287\n"
     ]
    }
   ],
   "source": [
    "from sklearn.metrics import mean_squared_error\n",
    "mse = mean_squared_error(y, y_pred)\n",
    "rmse = mse ** 0.5\n",
    "print(mse)\n",
    "print(rmse)"
   ]
  },
  {
   "cell_type": "markdown",
   "metadata": {},
   "source": [
    "From this we can see that our MSE and RMSE are huge and that is not a good thing to have. we need to build a 3rd model to rectify this. \n",
    "We might attribute this to over-fitting since we trained and tested on the same data and we used data with low corrilation to our dependent variable"
   ]
  },
  {
   "cell_type": "markdown",
   "metadata": {},
   "source": [
    "does our Model follow the LINE assumptions?"
   ]
  },
  {
   "cell_type": "code",
   "execution_count": 47,
   "metadata": {},
   "outputs": [
    {
     "data": {
      "image/png": "[encoded data removed]",
      "text/plain": [
       "<Figure size 432x288 with 1 Axes>"
      ]
     },
     "metadata": {
      "needs_background": "light"
     },
     "output_type": "display_data"
    }
   ],
   "source": [
    "#normality of residuals\n",
    "\n",
    "plt.hist(ML_model.resid, bins='auto')\n",
    "plt.show()"
   ]
  },
  {
   "cell_type": "markdown",
   "metadata": {},
   "source": [
    "we can tell that out residuals follow normality assumption"
   ]
  },
  {
   "cell_type": "code",
   "execution_count": 48,
   "metadata": {},
   "outputs": [
    {
     "data": {
      "image/png": "[encoded data removed]",
      "text/plain": [
       "<Figure size 576x432 with 1 Axes>"
      ]
     },
     "metadata": {
      "needs_background": "light"
     },
     "output_type": "display_data"
    }
   ],
   "source": [
    "# idependance of errors and equal variance\n",
    "plt.figure(figsize=(8, 6))\n",
    "plt.scatter(y, ML_model.resid)\n",
    "plt.xlabel('Price')\n",
    "plt.ylabel('Residuals')\n",
    "plt.title('Residuals vs. Price')\n",
    "plt.axhline(y=0, color='r', linestyle='--')  # Add a horizontal line at y=0 for reference\n",
    "plt.show()"
   ]
  },
  {
   "cell_type": "markdown",
   "metadata": {},
   "source": [
    "There is heteroskedicity and the residuals seem to be in a pattern"
   ]
  },
  {
   "cell_type": "markdown",
   "metadata": {},
   "source": [
    "we will check for linearity from the correlation coefficients"
   ]
  },
  {
   "cell_type": "code",
   "execution_count": 54,
   "metadata": {},
   "outputs": [
    {
     "data": {
      "text/plain": [
       "price             1.000000\n",
       "grade             0.637527\n",
       "sqft_living       0.627915\n",
       "sqft_living15     0.553436\n",
       "sqft_above        0.523454\n",
       "bathrooms         0.451600\n",
       "lat               0.413830\n",
       "view              0.305725\n",
       "bedrooms          0.293639\n",
       "floors            0.271068\n",
       "sqft_basement     0.243189\n",
       "waterfront        0.112252\n",
       "sqft_lot          0.093293\n",
       "sqft_lot15        0.084873\n",
       "condition         0.044942\n",
       "long              0.036832\n",
       "id                0.003885\n",
       "house_age        -0.000597\n",
       "renovation_age   -0.000788\n",
       "zipcode          -0.011267\n",
       "Name: price, dtype: float64"
      ]
     },
     "execution_count": 54,
     "metadata": {},
     "output_type": "execute_result"
    }
   ],
   "source": [
    "df.corr()['price'].sort_values(ascending=False).head(20)"
   ]
  },
  {
   "cell_type": "markdown",
   "metadata": {},
   "source": [
    "#### Model 3"
   ]
  },
  {
   "cell_type": "markdown",
   "metadata": {},
   "source": [
    "in this model we will clean our data to remove non- linear data to build this model. We will also train part of the data to evaluate the model on the remaining data ie we will do a train test split to reduce overfitting"
   ]
  },
  {
   "cell_type": "code",
   "execution_count": 50,
   "metadata": {},
   "outputs": [],
   "source": [
    "X = df[['bathrooms','sqft_living','grade', 'sqft_above','sqft_living15']]\n",
    "X = pd.get_dummies(X, columns=['grade'], drop_first=True)\n",
    "y = df['price']\n",
    "# spliting data to  prevent overfitting\n",
    "X_train, X_test, y_train, y_test = train_test_split(X, y, test_size=.20, random_state= 66)"
   ]
  },
  {
   "cell_type": "code",
   "execution_count": 51,
   "metadata": {},
   "outputs": [
    {
     "data": {
      "text/html": [
       "<table class=\"simpletable\">\n",
       "<caption>OLS Regression Results</caption>\n",
       "<tr>\n",
       "  <th>Dep. Variable:</th>          <td>price</td>      <th>  R-squared (uncentered):</th>       <td>   0.900</td>  \n",
       "</tr>\n",
       "<tr>\n",
       "  <th>Model:</th>                   <td>OLS</td>       <th>  Adj. R-squared (uncentered):</th>  <td>   0.900</td>  \n",
       "</tr>\n",
       "<tr>\n",
       "  <th>Method:</th>             <td>Least Squares</td>  <th>  F-statistic:       </th>           <td>1.002e+04</td> \n",
       "</tr>\n",
       "<tr>\n",
       "  <th>Date:</th>             <td>Fri, 03 May 2024</td> <th>  Prob (F-statistic):</th>            <td>  0.00</td>   \n",
       "</tr>\n",
       "<tr>\n",
       "  <th>Time:</th>                 <td>12:14:42</td>     <th>  Log-Likelihood:    </th>          <td>-1.9573e+05</td>\n",
       "</tr>\n",
       "<tr>\n",
       "  <th>No. Observations:</th>      <td> 14507</td>      <th>  AIC:               </th>           <td>3.915e+05</td> \n",
       "</tr>\n",
       "<tr>\n",
       "  <th>Df Residuals:</th>          <td> 14494</td>      <th>  BIC:               </th>           <td>3.916e+05</td> \n",
       "</tr>\n",
       "<tr>\n",
       "  <th>Df Model:</th>              <td>    13</td>      <th>                     </th>               <td> </td>     \n",
       "</tr>\n",
       "<tr>\n",
       "  <th>Covariance Type:</th>      <td>nonrobust</td>    <th>                     </th>               <td> </td>     \n",
       "</tr>\n",
       "</table>\n",
       "<table class=\"simpletable\">\n",
       "<tr>\n",
       "        <td></td>           <th>coef</th>     <th>std err</th>      <th>t</th>      <th>P>|t|</th>  <th>[0.025</th>    <th>0.975]</th>  \n",
       "</tr>\n",
       "<tr>\n",
       "  <th>bathrooms</th>     <td>-1.617e+04</td> <td> 3157.527</td> <td>   -5.123</td> <td> 0.000</td> <td>-2.24e+04</td> <td>-9985.517</td>\n",
       "</tr>\n",
       "<tr>\n",
       "  <th>sqft_living</th>   <td>  164.9055</td> <td>    4.406</td> <td>   37.424</td> <td> 0.000</td> <td>  156.268</td> <td>  173.543</td>\n",
       "</tr>\n",
       "<tr>\n",
       "  <th>sqft_above</th>    <td>  -88.5563</td> <td>    4.191</td> <td>  -21.132</td> <td> 0.000</td> <td>  -96.770</td> <td>  -80.342</td>\n",
       "</tr>\n",
       "<tr>\n",
       "  <th>sqft_living15</th> <td>   35.2934</td> <td>    3.851</td> <td>    9.164</td> <td> 0.000</td> <td>   27.745</td> <td>   42.842</td>\n",
       "</tr>\n",
       "<tr>\n",
       "  <th>grade_4</th>       <td>  1.19e+05</td> <td> 4.55e+04</td> <td>    2.614</td> <td> 0.009</td> <td> 2.98e+04</td> <td> 2.08e+05</td>\n",
       "</tr>\n",
       "<tr>\n",
       "  <th>grade_5</th>       <td> 1.352e+05</td> <td> 1.55e+04</td> <td>    8.727</td> <td> 0.000</td> <td> 1.05e+05</td> <td> 1.66e+05</td>\n",
       "</tr>\n",
       "<tr>\n",
       "  <th>grade_6</th>       <td>  1.72e+05</td> <td> 6985.674</td> <td>   24.619</td> <td> 0.000</td> <td> 1.58e+05</td> <td> 1.86e+05</td>\n",
       "</tr>\n",
       "<tr>\n",
       "  <th>grade_7</th>       <td> 2.181e+05</td> <td> 7161.611</td> <td>   30.449</td> <td> 0.000</td> <td> 2.04e+05</td> <td> 2.32e+05</td>\n",
       "</tr>\n",
       "<tr>\n",
       "  <th>grade_8</th>       <td> 3.089e+05</td> <td> 8972.307</td> <td>   34.429</td> <td> 0.000</td> <td> 2.91e+05</td> <td> 3.26e+05</td>\n",
       "</tr>\n",
       "<tr>\n",
       "  <th>grade_9</th>       <td>   4.6e+05</td> <td> 1.13e+04</td> <td>   40.819</td> <td> 0.000</td> <td> 4.38e+05</td> <td> 4.82e+05</td>\n",
       "</tr>\n",
       "<tr>\n",
       "  <th>grade_10</th>      <td> 5.788e+05</td> <td> 1.38e+04</td> <td>   41.801</td> <td> 0.000</td> <td> 5.52e+05</td> <td> 6.06e+05</td>\n",
       "</tr>\n",
       "<tr>\n",
       "  <th>grade_11</th>      <td> 6.972e+05</td> <td> 2.16e+04</td> <td>   32.329</td> <td> 0.000</td> <td> 6.55e+05</td> <td> 7.39e+05</td>\n",
       "</tr>\n",
       "<tr>\n",
       "  <th>grade_12</th>      <td> 1.014e+06</td> <td> 1.76e+05</td> <td>    5.768</td> <td> 0.000</td> <td> 6.69e+05</td> <td> 1.36e+06</td>\n",
       "</tr>\n",
       "</table>\n",
       "<table class=\"simpletable\">\n",
       "<tr>\n",
       "  <th>Omnibus:</th>       <td>2602.780</td> <th>  Durbin-Watson:     </th> <td>   1.969</td>\n",
       "</tr>\n",
       "<tr>\n",
       "  <th>Prob(Omnibus):</th>  <td> 0.000</td>  <th>  Jarque-Bera (JB):  </th> <td>6335.267</td>\n",
       "</tr>\n",
       "<tr>\n",
       "  <th>Skew:</th>           <td> 1.006</td>  <th>  Prob(JB):          </th> <td>    0.00</td>\n",
       "</tr>\n",
       "<tr>\n",
       "  <th>Kurtosis:</th>       <td> 5.536</td>  <th>  Cond. No.          </th> <td>4.14e+05</td>\n",
       "</tr>\n",
       "</table><br/><br/>Notes:<br/>[1] R² is computed without centering (uncentered) since the model does not contain a constant.<br/>[2] Standard Errors assume that the covariance matrix of the errors is correctly specified.<br/>[3] The condition number is large, 4.14e+05. This might indicate that there are<br/>strong multicollinearity or other numerical problems."
      ],
      "text/plain": [
       "<class 'statsmodels.iolib.summary.Summary'>\n",
       "\"\"\"\n",
       "                                 OLS Regression Results                                \n",
       "=======================================================================================\n",
       "Dep. Variable:                  price   R-squared (uncentered):                   0.900\n",
       "Model:                            OLS   Adj. R-squared (uncentered):              0.900\n",
       "Method:                 Least Squares   F-statistic:                          1.002e+04\n",
       "Date:                Fri, 03 May 2024   Prob (F-statistic):                        0.00\n",
       "Time:                        12:14:42   Log-Likelihood:                     -1.9573e+05\n",
       "No. Observations:               14507   AIC:                                  3.915e+05\n",
       "Df Residuals:                   14494   BIC:                                  3.916e+05\n",
       "Df Model:                          13                                                  \n",
       "Covariance Type:            nonrobust                                                  \n",
       "=================================================================================\n",
       "                    coef    std err          t      P>|t|      [0.025      0.975]\n",
       "---------------------------------------------------------------------------------\n",
       "bathrooms     -1.617e+04   3157.527     -5.123      0.000   -2.24e+04   -9985.517\n",
       "sqft_living     164.9055      4.406     37.424      0.000     156.268     173.543\n",
       "sqft_above      -88.5563      4.191    -21.132      0.000     -96.770     -80.342\n",
       "sqft_living15    35.2934      3.851      9.164      0.000      27.745      42.842\n",
       "grade_4         1.19e+05   4.55e+04      2.614      0.009    2.98e+04    2.08e+05\n",
       "grade_5        1.352e+05   1.55e+04      8.727      0.000    1.05e+05    1.66e+05\n",
       "grade_6         1.72e+05   6985.674     24.619      0.000    1.58e+05    1.86e+05\n",
       "grade_7        2.181e+05   7161.611     30.449      0.000    2.04e+05    2.32e+05\n",
       "grade_8        3.089e+05   8972.307     34.429      0.000    2.91e+05    3.26e+05\n",
       "grade_9          4.6e+05   1.13e+04     40.819      0.000    4.38e+05    4.82e+05\n",
       "grade_10       5.788e+05   1.38e+04     41.801      0.000    5.52e+05    6.06e+05\n",
       "grade_11       6.972e+05   2.16e+04     32.329      0.000    6.55e+05    7.39e+05\n",
       "grade_12       1.014e+06   1.76e+05      5.768      0.000    6.69e+05    1.36e+06\n",
       "==============================================================================\n",
       "Omnibus:                     2602.780   Durbin-Watson:                   1.969\n",
       "Prob(Omnibus):                  0.000   Jarque-Bera (JB):             6335.267\n",
       "Skew:                           1.006   Prob(JB):                         0.00\n",
       "Kurtosis:                       5.536   Cond. No.                     4.14e+05\n",
       "==============================================================================\n",
       "\n",
       "Notes:\n",
       "[1] R² is computed without centering (uncentered) since the model does not contain a constant.\n",
       "[2] Standard Errors assume that the covariance matrix of the errors is correctly specified.\n",
       "[3] The condition number is large, 4.14e+05. This might indicate that there are\n",
       "strong multicollinearity or other numerical problems.\n",
       "\"\"\""
      ]
     },
     "execution_count": 51,
     "metadata": {},
     "output_type": "execute_result"
    }
   ],
   "source": [
    "#fitting the model\n",
    "model_3 = sm.OLS(y, X).fit()\n",
    "\n",
    "#model resultsd\n",
    "model_3.summary()"
   ]
  },
  {
   "cell_type": "markdown",
   "metadata": {},
   "source": [
    "#### Model 3 interpretations"
   ]
  },
  {
   "cell_type": "markdown",
   "metadata": {},
   "source": [
    "<li>We can clearly see that our adj R-squared has jumped significantly to 90%.\n",
    "<li>The model is statistically significant since its p-value is less than alpha 5%\n"
   ]
  },
  {
   "cell_type": "markdown",
   "metadata": {},
   "source": [
    "evaluating model 3"
   ]
  },
  {
   "cell_type": "code",
   "execution_count": 57,
   "metadata": {},
   "outputs": [
    {
     "name": "stdout",
     "output_type": "stream",
     "text": [
      "179627.64408786144\n",
      "134849.3972940279\n",
      "32266090520.555424\n"
     ]
    }
   ],
   "source": [
    "y_pred = model_3.predict(X_test)\n",
    "\n",
    "mse = mean_squared_error(y_test, y_pred)\n",
    "rmse = np.sqrt(mse)\n",
    "mae = mean_absolute_error(y_test, y_pred)\n",
    "\n",
    "print(rmse)\n",
    "print(mae)\n",
    "print(mse)"
   ]
  },
  {
   "cell_type": "markdown",
   "metadata": {},
   "source": [
    "From the calculated MAE and RMSE we can tell that the third model is way accurate compared to the previous 2 models and we recomend using 3rd model in predicting the price of a house"
   ]
  },
  {
   "cell_type": "markdown",
   "metadata": {},
   "source": [
    "## RECCOMENDATIONS"
   ]
  },
  {
   "cell_type": "markdown",
   "metadata": {},
   "source": [
    "From the 3 modules built we advise potential buyers or sellers to concider model 3 in determining the price of a house. \n",
    "We can also suggest that the factor affecting the price of a house most is square foot living but they should concider the grade if they want to have a more sell value"
   ]
  },
  {
   "cell_type": "markdown",
   "metadata": {},
   "source": [
    "Next Steps\n",
    "\n",
    "1.Find more features that home buyers often value highly to add to the model e.g distance from social amenities like hospitals, schools <br>\n",
    "2.Correlate the information of this model with ones for other states <br>\n",
    "3.They should build a pipeline that continously updates the model with data that is upto date <br>"
   ]
  },
  {
   "cell_type": "markdown",
   "metadata": {},
   "source": [
    "We need to be aware of certain constraints within the data, as these might influence our analysis and interpretation of the results. From the sources;\n",
    "\n",
    "1. The data may contain anomalies or inconsistencies that require careful examination during analysis. For instance, a record lists a house with 33 bedrooms, which appears to be an outlier\n",
    "\n",
    "2. It's important to consider the time frame of the data (May 2014 - May 2015) as it may not fully capture the current market dynamics in King County.\n",
    "3. It's important to acknowledge the scope of the data. While it provides details on house features, it may not capture external factors such as interest rates or the overall economic climate, which can also play a role in determining property values."
   ]
  }
 ],
 "metadata": {
  "kernelspec": {
   "display_name": "Python 3",
   "language": "python",
   "name": "python3"
  },
  "language_info": {
   "codemirror_mode": {
    "name": "ipython",
    "version": 3
   },
   "file_extension": ".py",
   "mimetype": "text/x-python",
   "name": "python",
   "nbconvert_exporter": "python",
   "pygments_lexer": "ipython3",
   "version": "3.8.5"
  }
 },
 "nbformat": 4,
 "nbformat_minor": 2
}
